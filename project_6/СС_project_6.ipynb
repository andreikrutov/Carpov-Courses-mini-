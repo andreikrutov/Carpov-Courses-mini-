{
  "nbformat": 4,
  "nbformat_minor": 0,
  "metadata": {
    "colab": {
      "name": "СС_project_6.ipynb",
      "provenance": [],
      "collapsed_sections": []
    },
    "kernelspec": {
      "name": "python3",
      "display_name": "Python 3"
    },
    "language_info": {
      "name": "python"
    }
  },
  "cells": [
    {
      "cell_type": "markdown",
      "metadata": {
        "id": "ytvJeiwMUJLp"
      },
      "source": [
        "# Задачи\n",
        "Разберемся с распределением количества показов и кликов.  \n",
        "- Посчитайте среднее количество показов и среднее количество кликов на объявления за весь период (округлите до целых).  \n",
        "- Нарисуйте график распределения показов на объявление за весь период.  \n",
        "- Давайте посчитаем скользящее среднее показов с окном 2. Какое значение скользящего среднего получим за 6 апреля 2019 года (ответ округлите до целых)?  \n",
        "- Скользящее среднее часто используется для поиска аномалий в данных. Давайте попробуем нанести на один график значения арифметического среднего по дням и скользящего среднего количества показов. В какой день наблюдается наибольшая разница по модулю между арифметическим средним и скользящим средним? Дни, в которых скользящее среднее равно NaN, не учитываем.  \n",
        "- Напишите функцию, которая найдет проблемное объявление (с наибольшим/наименьшим количеством показов) в день, в который была замечена самая большая по модулю аномалия.  \n",
        "- Теперь подгрузим данные по рекламным клиентам и найдем среднее количество дней от даты создания рекламного клиента и первым запуском рекламного объявления этим клиентом.  \n",
        "- Вычислите конверсию из создания рекламного клиента в запуск первой рекламы в течение не более 365 дней. Ответ дайте в процентах и округлите до сотых. (Фильтровать нужно по значению в формате pd.Timedelta(365, unit='d'))  \n",
        "- Давайте разобъем наших клиентов по промежуткам от создания до запуска рекламного объявления, равным 30. Определите, сколько уникальных клиентов запустили свое первое объявление в первый месяц своего существования (от 0 до 30 дней). Список промежутков для метода pd.cut – [0, 30, 90, 180, 365]  \n",
        "- А теперь – выведем на интерактивный график эти категории с количеством уникальных клиентов в них.  \n",
        "\n"
      ]
    },
    {
      "cell_type": "markdown",
      "metadata": {
        "id": "VrrKnzNtUJPC"
      },
      "source": [
        "##Описание данных\n",
        "**ads_data.csv** – данные взаимодействий с рекламными объявлениями\n",
        "\n",
        "date – дата  \n",
        "time – время  \n",
        "event – действие (просмотр/клик)  \n",
        "platform – платформа  \n",
        "ad_id – id объявления  \n",
        "client_union_id – id рекламного кабинета  \n",
        "campaign_union_id – id рекламной кампании  \n",
        "ad_cost_type – тип оплаты  \n",
        "ad_cost – цена  \n",
        "has_video – есть ли видео  \n",
        "target_audience_count – размер аудитории  \n",
        "\n",
        "\n",
        "**ads_clients_data.csv** – характеристики рекламных клиентов  \n",
        "\n",
        "date – дата  \n",
        "client_union_id – id рекламного кабинета  \n",
        "community_id – id сообщества  \n",
        "create_date – дата создания рекламного клиента"
      ]
    },
    {
      "cell_type": "code",
      "metadata": {
        "colab": {
          "base_uri": "https://localhost:8080/"
        },
        "id": "JlWeAkx6UHZ6",
        "outputId": "46b70ed0-d776-4b21-9be5-414043334c6c"
      },
      "source": [
        "from google.colab import drive\n",
        "drive.mount('/content/drive')"
      ],
      "execution_count": null,
      "outputs": [
        {
          "output_type": "stream",
          "text": [
            "Mounted at /content/drive\n"
          ],
          "name": "stdout"
        }
      ]
    },
    {
      "cell_type": "code",
      "metadata": {
        "id": "wedkaTfVTS5S"
      },
      "source": [
        "import pandas as pd\n",
        "import numpy as np\n",
        "import seaborn as sns"
      ],
      "execution_count": null,
      "outputs": []
    },
    {
      "cell_type": "markdown",
      "metadata": {
        "id": "WYUa-okNVQBh"
      },
      "source": [
        "Посчитаем среднее количество разных рекламных событий (показы и клики) по объявлениям. Тонкий момент: помните, что некоторые показываемые объявления не кликались, и при группировке в таких случаях не будет строк с кликами, а для подсчёта среднего по объявлениям их нужно учитывать. Округлите ответы до целых чисел."
      ]
    },
    {
      "cell_type": "code",
      "metadata": {
        "id": "0PYSDNq1TTFh"
      },
      "source": [
        "ads_data = pd.read_csv('/content/drive/My Drive/Data for Collab/Carpov_Courses/project_6/ads_data.csv', index_col=0).reset_index()"
      ],
      "execution_count": null,
      "outputs": []
    },
    {
      "cell_type": "code",
      "metadata": {
        "colab": {
          "base_uri": "https://localhost:8080/",
          "height": 203
        },
        "id": "ZE-WJmnuVH08",
        "outputId": "cf69b29e-d44c-4bcf-8fde-447047dae5c5"
      },
      "source": [
        "ads_data.head()"
      ],
      "execution_count": null,
      "outputs": [
        {
          "output_type": "execute_result",
          "data": {
            "text/html": [
              "<div>\n",
              "<style scoped>\n",
              "    .dataframe tbody tr th:only-of-type {\n",
              "        vertical-align: middle;\n",
              "    }\n",
              "\n",
              "    .dataframe tbody tr th {\n",
              "        vertical-align: top;\n",
              "    }\n",
              "\n",
              "    .dataframe thead th {\n",
              "        text-align: right;\n",
              "    }\n",
              "</style>\n",
              "<table border=\"1\" class=\"dataframe\">\n",
              "  <thead>\n",
              "    <tr style=\"text-align: right;\">\n",
              "      <th></th>\n",
              "      <th>date</th>\n",
              "      <th>time</th>\n",
              "      <th>event</th>\n",
              "      <th>platform</th>\n",
              "      <th>ad_id</th>\n",
              "      <th>client_union_id</th>\n",
              "      <th>campaign_union_id</th>\n",
              "      <th>ad_cost_type</th>\n",
              "      <th>ad_cost</th>\n",
              "      <th>has_video</th>\n",
              "      <th>target_audience_count</th>\n",
              "    </tr>\n",
              "  </thead>\n",
              "  <tbody>\n",
              "    <tr>\n",
              "      <th>0</th>\n",
              "      <td>2019-04-01</td>\n",
              "      <td>2019-04-01 00:00:48</td>\n",
              "      <td>view</td>\n",
              "      <td>android</td>\n",
              "      <td>45061</td>\n",
              "      <td>34734</td>\n",
              "      <td>45061</td>\n",
              "      <td>CPM</td>\n",
              "      <td>200.6</td>\n",
              "      <td>0</td>\n",
              "      <td>1955269</td>\n",
              "    </tr>\n",
              "    <tr>\n",
              "      <th>1</th>\n",
              "      <td>2019-04-01</td>\n",
              "      <td>2019-04-01 00:00:48</td>\n",
              "      <td>view</td>\n",
              "      <td>web</td>\n",
              "      <td>121288</td>\n",
              "      <td>121288</td>\n",
              "      <td>121288</td>\n",
              "      <td>CPM</td>\n",
              "      <td>187.4</td>\n",
              "      <td>0</td>\n",
              "      <td>232011</td>\n",
              "    </tr>\n",
              "    <tr>\n",
              "      <th>2</th>\n",
              "      <td>2019-04-01</td>\n",
              "      <td>2019-04-01 00:01:03</td>\n",
              "      <td>view</td>\n",
              "      <td>android</td>\n",
              "      <td>102737</td>\n",
              "      <td>102535</td>\n",
              "      <td>102564</td>\n",
              "      <td>CPC</td>\n",
              "      <td>60.7</td>\n",
              "      <td>0</td>\n",
              "      <td>4410</td>\n",
              "    </tr>\n",
              "    <tr>\n",
              "      <th>3</th>\n",
              "      <td>2019-04-01</td>\n",
              "      <td>2019-04-01 00:01:03</td>\n",
              "      <td>view</td>\n",
              "      <td>android</td>\n",
              "      <td>107564</td>\n",
              "      <td>106914</td>\n",
              "      <td>107564</td>\n",
              "      <td>CPM</td>\n",
              "      <td>217.3</td>\n",
              "      <td>0</td>\n",
              "      <td>62711</td>\n",
              "    </tr>\n",
              "    <tr>\n",
              "      <th>4</th>\n",
              "      <td>2019-04-01</td>\n",
              "      <td>2019-04-01 00:01:09</td>\n",
              "      <td>view</td>\n",
              "      <td>android</td>\n",
              "      <td>4922</td>\n",
              "      <td>37</td>\n",
              "      <td>4400</td>\n",
              "      <td>CPC</td>\n",
              "      <td>60.1</td>\n",
              "      <td>0</td>\n",
              "      <td>1183501</td>\n",
              "    </tr>\n",
              "  </tbody>\n",
              "</table>\n",
              "</div>"
            ],
            "text/plain": [
              "         date                 time  ... has_video target_audience_count\n",
              "0  2019-04-01  2019-04-01 00:00:48  ...         0               1955269\n",
              "1  2019-04-01  2019-04-01 00:00:48  ...         0                232011\n",
              "2  2019-04-01  2019-04-01 00:01:03  ...         0                  4410\n",
              "3  2019-04-01  2019-04-01 00:01:03  ...         0                 62711\n",
              "4  2019-04-01  2019-04-01 00:01:09  ...         0               1183501\n",
              "\n",
              "[5 rows x 11 columns]"
            ]
          },
          "metadata": {
            "tags": []
          },
          "execution_count": 64
        }
      ]
    },
    {
      "cell_type": "code",
      "metadata": {
        "colab": {
          "base_uri": "https://localhost:8080/"
        },
        "id": "n8pgQ0wBVc3c",
        "outputId": "1a9a5d9d-6a21-4b5a-997f-1268b6cd52df"
      },
      "source": [
        "ads_data.groupby(['ad_id','event'], as_index=False).agg({'platform':'count'}) \\\n",
        "        .rename(columns={'platform':'count'}) \\\n",
        "        .pivot(index='ad_id', columns='event', values = 'count') \\\n",
        "        .fillna(0).mean()"
      ],
      "execution_count": null,
      "outputs": [
        {
          "output_type": "execute_result",
          "data": {
            "text/plain": [
              "event\n",
              "click    113.137824\n",
              "view     923.131606\n",
              "dtype: float64"
            ]
          },
          "metadata": {
            "tags": []
          },
          "execution_count": 42
        }
      ]
    },
    {
      "cell_type": "markdown",
      "metadata": {
        "id": "Kp9zopRYbIJZ"
      },
      "source": [
        "Давайте посмотрим на распределение показов объявлений!\n",
        "\n",
        "По оси x – число показов\n",
        "По оси y – доля объявлений с такими показами\n",
        "Прологарифмируйте число показов, а затем постройте такой график, чтобы можно было понять форму распределения."
      ]
    },
    {
      "cell_type": "code",
      "metadata": {
        "id": "5H5yvGcRbI_p"
      },
      "source": [
        "x = np.log(ads_data.groupby(['ad_id','event'], as_index=False).agg({'platform':'count'}) \\\n",
        "        .rename(columns={'platform':'count'}).query('event == \"view\"')['count'])"
      ],
      "execution_count": null,
      "outputs": []
    },
    {
      "cell_type": "code",
      "metadata": {
        "colab": {
          "base_uri": "https://localhost:8080/",
          "height": 539
        },
        "id": "G8flzdv6cBvb",
        "outputId": "9e9c9100-3c66-4968-96a5-1b11d7ff24df"
      },
      "source": [
        "sns.set(\n",
        "    font_scale=2,\n",
        "    style=\"whitegrid\",\n",
        "    rc={'figure.figsize':(20,7)}\n",
        "        )\n",
        "sns.distplot(x)"
      ],
      "execution_count": null,
      "outputs": [
        {
          "output_type": "stream",
          "text": [
            "/usr/local/lib/python3.7/dist-packages/seaborn/distributions.py:2557: FutureWarning: `distplot` is a deprecated function and will be removed in a future version. Please adapt your code to use either `displot` (a figure-level function with similar flexibility) or `histplot` (an axes-level function for histograms).\n",
            "  warnings.warn(msg, FutureWarning)\n"
          ],
          "name": "stderr"
        },
        {
          "output_type": "execute_result",
          "data": {
            "text/plain": [
              "<matplotlib.axes._subplots.AxesSubplot at 0x7f3fd7ef0e50>"
            ]
          },
          "metadata": {
            "tags": []
          },
          "execution_count": 61
        },
        {
          "output_type": "display_data",
          "data": {
            "image/png": "[encoded data removed]",
            "text/plain": [
              "<Figure size 1440x504 with 1 Axes>"
            ]
          },
          "metadata": {
            "tags": []
          }
        }
      ]
    },
    {
      "cell_type": "code",
      "metadata": {
        "id": "vvYAiwhgb2g8"
      },
      "source": [
        ""
      ],
      "execution_count": null,
      "outputs": []
    },
    {
      "cell_type": "markdown",
      "metadata": {
        "id": "SwgiZSavdaPP"
      },
      "source": [
        "Теперь нужно найти среднее количество показов на 1 объявление (ad_id) по дням, не учитывая объявления, у которых не было показов (обычное среднее). После этого посчитайте скользящее среднее по полученному результату с окном в 2 элемента.\n",
        "\n",
        "Вопрос: Какое значение скользящего среднего получим за 6 апреля 2019 года? Округлите ответ до целого числа."
      ]
    },
    {
      "cell_type": "code",
      "metadata": {
        "id": "OvrjT488dcxg"
      },
      "source": [
        "ad = ads_data.query('event == \"view\"').groupby(['ad_id', 'date'], as_index=False).agg({'event':'count'})"
      ],
      "execution_count": null,
      "outputs": []
    },
    {
      "cell_type": "code",
      "metadata": {
        "id": "MUkZl32HdtMx"
      },
      "source": [
        "ad_rolling_mean = ad.groupby('date').agg({'event':'mean'}).rolling(window=2).mean()"
      ],
      "execution_count": null,
      "outputs": []
    },
    {
      "cell_type": "markdown",
      "metadata": {
        "id": "D-LgBIa3gt8m"
      },
      "source": [
        "Скользящее среднее часто используется для поиска аномалий в данных. Давайте попробуем нанести на один график значения просто среднего количества показов по дням и скользящего среднего на основе этих данных (которое мы получили в прошлом задании).\n",
        "\n",
        "Посчитайте, в какой день наблюдается наибольшая разница по модулю между арифметическим средним и скользящим средним? Дни, в которых скользящее среднее равно NaN, не учитываем. Запишите ответ в формате yyyy-MM-dd"
      ]
    },
    {
      "cell_type": "code",
      "metadata": {
        "id": "v_8-GrIje-79"
      },
      "source": [
        "ad_mean = ad.groupby('date').agg({'event':'mean'})"
      ],
      "execution_count": null,
      "outputs": []
    },
    {
      "cell_type": "code",
      "metadata": {
        "id": "fpIlayVffvM_"
      },
      "source": [
        "anomaly = abs(ad_mean - ad_rolling_mean).idxmax().values[0]#находим дату аномалии"
      ],
      "execution_count": null,
      "outputs": []
    },
    {
      "cell_type": "code",
      "metadata": {
        "colab": {
          "base_uri": "https://localhost:8080/",
          "height": 35
        },
        "id": "ASfoS0HfjF5M",
        "outputId": "6a337120-1e06-4e84-bc5c-b316b4706625"
      },
      "source": [
        "anomaly"
      ],
      "execution_count": null,
      "outputs": [
        {
          "output_type": "execute_result",
          "data": {
            "application/vnd.google.colaboratory.intrinsic+json": {
              "type": "string"
            },
            "text/plain": [
              "'2019-04-06'"
            ]
          },
          "metadata": {
            "tags": []
          },
          "execution_count": 109
        }
      ]
    },
    {
      "cell_type": "code",
      "metadata": {
        "colab": {
          "base_uri": "https://localhost:8080/",
          "height": 486
        },
        "id": "MjCtu82GhROC",
        "outputId": "458763cb-693e-4e84-b866-e2f72aa43b67"
      },
      "source": [
        "sns.lineplot(data = ad_mean.reset_index(), x = 'date', y = 'event')\n",
        "sns.lineplot(data = ad_rolling_mean.reset_index(), x = 'date', y = 'event')"
      ],
      "execution_count": null,
      "outputs": [
        {
          "output_type": "execute_result",
          "data": {
            "text/plain": [
              "<matplotlib.axes._subplots.AxesSubplot at 0x7f3fd7b063d0>"
            ]
          },
          "metadata": {
            "tags": []
          },
          "execution_count": 94
        },
        {
          "output_type": "display_data",
          "data": {
            "image/png": "[encoded data removed]",
            "text/plain": [
              "<Figure size 1440x504 with 1 Axes>"
            ]
          },
          "metadata": {
            "tags": []
          }
        }
      ]
    },
    {
      "cell_type": "markdown",
      "metadata": {
        "id": "HgkH7dapiij0"
      },
      "source": [
        "Ну а теперь найдём проблемное объявление (с наибольшим/наименьшим количеством показов) в день, в который была замечена самая большая по модулю аномалия. То есть нужно переиспользовать предыдущий датафрейм и найти среди данных рекламы в тот день объявление с наибольшим или наименьшим числом показов.Потом напишите функцию, которая будет искать такое объявление в датасете.\n",
        "\n",
        "В ответе укажите id проблемного объявления в день, полученный на предыдущем шаге."
      ]
    },
    {
      "cell_type": "code",
      "metadata": {
        "id": "qg76wLq2hh_Z"
      },
      "source": [
        "anomaly_ad_id = ad.query('date == @anomaly').set_index('ad_id')['event'].idxmax()"
      ],
      "execution_count": null,
      "outputs": []
    },
    {
      "cell_type": "code",
      "metadata": {
        "colab": {
          "base_uri": "https://localhost:8080/"
        },
        "id": "TUuwNkMOiwXv",
        "outputId": "a36b3393-bde2-4dad-a837-1c2107b6a309"
      },
      "source": [
        "anomaly_ad_id"
      ],
      "execution_count": null,
      "outputs": [
        {
          "output_type": "execute_result",
          "data": {
            "text/plain": [
              "112583"
            ]
          },
          "metadata": {
            "tags": []
          },
          "execution_count": 117
        }
      ]
    },
    {
      "cell_type": "code",
      "metadata": {
        "id": "CUp8ahIIkH1a"
      },
      "source": [
        "def anomaly_search(df, date):#на вход обработанный df и день аномалии\n",
        "\n",
        "  anomaly_ad_id = df.query('date == @date').set_index('ad_id')['event'].idxmax()\n",
        "  return anomaly_ad_id"
      ],
      "execution_count": null,
      "outputs": []
    },
    {
      "cell_type": "code",
      "metadata": {
        "colab": {
          "base_uri": "https://localhost:8080/"
        },
        "id": "gWdXj9c0k4t5",
        "outputId": "bc5a7d78-ca17-4f6d-b28e-d5b6526096cf"
      },
      "source": [
        "anomaly_search(ad, anomaly)"
      ],
      "execution_count": null,
      "outputs": [
        {
          "output_type": "execute_result",
          "data": {
            "text/plain": [
              "112583"
            ]
          },
          "metadata": {
            "tags": []
          },
          "execution_count": 121
        }
      ]
    },
    {
      "cell_type": "markdown",
      "metadata": {
        "id": "tL13oEvjhn22"
      },
      "source": [
        "Объедините данные рекламы с данными о рекламных клиентах и найдите среднее количество дней от даты создания рекламного клиента (create_date) и первым запуском рекламного объявления этим клиентом (date).\n",
        "\n",
        "В качестве ответа укажите среднее число дней."
      ]
    },
    {
      "cell_type": "code",
      "metadata": {
        "id": "qL0O1ZFdk9Xm"
      },
      "source": [
        "ads_clients = pd.read_csv('/content/drive/My Drive/Data for Collab/Carpov_Courses/project_6/ads_clients_data.csv', index_col=0).reset_index()"
      ],
      "execution_count": null,
      "outputs": []
    },
    {
      "cell_type": "code",
      "metadata": {
        "colab": {
          "base_uri": "https://localhost:8080/",
          "height": 203
        },
        "id": "ZfZ1Z_9xhwvv",
        "outputId": "5d644afc-9dea-42d0-ee60-629683e4d5d2"
      },
      "source": [
        "ads_clients.head()"
      ],
      "execution_count": null,
      "outputs": [
        {
          "output_type": "execute_result",
          "data": {
            "text/html": [
              "<div>\n",
              "<style scoped>\n",
              "    .dataframe tbody tr th:only-of-type {\n",
              "        vertical-align: middle;\n",
              "    }\n",
              "\n",
              "    .dataframe tbody tr th {\n",
              "        vertical-align: top;\n",
              "    }\n",
              "\n",
              "    .dataframe thead th {\n",
              "        text-align: right;\n",
              "    }\n",
              "</style>\n",
              "<table border=\"1\" class=\"dataframe\">\n",
              "  <thead>\n",
              "    <tr style=\"text-align: right;\">\n",
              "      <th></th>\n",
              "      <th>date</th>\n",
              "      <th>client_union_id</th>\n",
              "      <th>community_id</th>\n",
              "      <th>create_date</th>\n",
              "    </tr>\n",
              "  </thead>\n",
              "  <tbody>\n",
              "    <tr>\n",
              "      <th>0</th>\n",
              "      <td>2020-05-07</td>\n",
              "      <td>1</td>\n",
              "      <td>-130371893</td>\n",
              "      <td>2018-12-24</td>\n",
              "    </tr>\n",
              "    <tr>\n",
              "      <th>1</th>\n",
              "      <td>2020-05-07</td>\n",
              "      <td>2</td>\n",
              "      <td>-130304626</td>\n",
              "      <td>2019-02-10</td>\n",
              "    </tr>\n",
              "    <tr>\n",
              "      <th>2</th>\n",
              "      <td>2020-05-07</td>\n",
              "      <td>3</td>\n",
              "      <td>-130462599</td>\n",
              "      <td>2019-01-25</td>\n",
              "    </tr>\n",
              "    <tr>\n",
              "      <th>3</th>\n",
              "      <td>2020-05-07</td>\n",
              "      <td>4</td>\n",
              "      <td>-130574300</td>\n",
              "      <td>2018-12-09</td>\n",
              "    </tr>\n",
              "    <tr>\n",
              "      <th>4</th>\n",
              "      <td>2020-05-07</td>\n",
              "      <td>5</td>\n",
              "      <td>-130292358</td>\n",
              "      <td>2019-01-08</td>\n",
              "    </tr>\n",
              "  </tbody>\n",
              "</table>\n",
              "</div>"
            ],
            "text/plain": [
              "         date  client_union_id  community_id create_date\n",
              "0  2020-05-07                1    -130371893  2018-12-24\n",
              "1  2020-05-07                2    -130304626  2019-02-10\n",
              "2  2020-05-07                3    -130462599  2019-01-25\n",
              "3  2020-05-07                4    -130574300  2018-12-09\n",
              "4  2020-05-07                5    -130292358  2019-01-08"
            ]
          },
          "metadata": {
            "tags": []
          },
          "execution_count": 9
        }
      ]
    },
    {
      "cell_type": "code",
      "metadata": {
        "colab": {
          "base_uri": "https://localhost:8080/",
          "height": 203
        },
        "id": "lkrLGAtBh8gQ",
        "outputId": "045fbbe7-1a21-414c-cb3c-b85292bc03d2"
      },
      "source": [
        "ads_data.head()"
      ],
      "execution_count": null,
      "outputs": [
        {
          "output_type": "execute_result",
          "data": {
            "text/html": [
              "<div>\n",
              "<style scoped>\n",
              "    .dataframe tbody tr th:only-of-type {\n",
              "        vertical-align: middle;\n",
              "    }\n",
              "\n",
              "    .dataframe tbody tr th {\n",
              "        vertical-align: top;\n",
              "    }\n",
              "\n",
              "    .dataframe thead th {\n",
              "        text-align: right;\n",
              "    }\n",
              "</style>\n",
              "<table border=\"1\" class=\"dataframe\">\n",
              "  <thead>\n",
              "    <tr style=\"text-align: right;\">\n",
              "      <th></th>\n",
              "      <th>date</th>\n",
              "      <th>time</th>\n",
              "      <th>event</th>\n",
              "      <th>platform</th>\n",
              "      <th>ad_id</th>\n",
              "      <th>client_union_id</th>\n",
              "      <th>campaign_union_id</th>\n",
              "      <th>ad_cost_type</th>\n",
              "      <th>ad_cost</th>\n",
              "      <th>has_video</th>\n",
              "      <th>target_audience_count</th>\n",
              "    </tr>\n",
              "  </thead>\n",
              "  <tbody>\n",
              "    <tr>\n",
              "      <th>0</th>\n",
              "      <td>2019-04-01</td>\n",
              "      <td>2019-04-01 00:00:48</td>\n",
              "      <td>view</td>\n",
              "      <td>android</td>\n",
              "      <td>45061</td>\n",
              "      <td>34734</td>\n",
              "      <td>45061</td>\n",
              "      <td>CPM</td>\n",
              "      <td>200.6</td>\n",
              "      <td>0</td>\n",
              "      <td>1955269</td>\n",
              "    </tr>\n",
              "    <tr>\n",
              "      <th>1</th>\n",
              "      <td>2019-04-01</td>\n",
              "      <td>2019-04-01 00:00:48</td>\n",
              "      <td>view</td>\n",
              "      <td>web</td>\n",
              "      <td>121288</td>\n",
              "      <td>121288</td>\n",
              "      <td>121288</td>\n",
              "      <td>CPM</td>\n",
              "      <td>187.4</td>\n",
              "      <td>0</td>\n",
              "      <td>232011</td>\n",
              "    </tr>\n",
              "    <tr>\n",
              "      <th>2</th>\n",
              "      <td>2019-04-01</td>\n",
              "      <td>2019-04-01 00:01:03</td>\n",
              "      <td>view</td>\n",
              "      <td>android</td>\n",
              "      <td>102737</td>\n",
              "      <td>102535</td>\n",
              "      <td>102564</td>\n",
              "      <td>CPC</td>\n",
              "      <td>60.7</td>\n",
              "      <td>0</td>\n",
              "      <td>4410</td>\n",
              "    </tr>\n",
              "    <tr>\n",
              "      <th>3</th>\n",
              "      <td>2019-04-01</td>\n",
              "      <td>2019-04-01 00:01:03</td>\n",
              "      <td>view</td>\n",
              "      <td>android</td>\n",
              "      <td>107564</td>\n",
              "      <td>106914</td>\n",
              "      <td>107564</td>\n",
              "      <td>CPM</td>\n",
              "      <td>217.3</td>\n",
              "      <td>0</td>\n",
              "      <td>62711</td>\n",
              "    </tr>\n",
              "    <tr>\n",
              "      <th>4</th>\n",
              "      <td>2019-04-01</td>\n",
              "      <td>2019-04-01 00:01:09</td>\n",
              "      <td>view</td>\n",
              "      <td>android</td>\n",
              "      <td>4922</td>\n",
              "      <td>37</td>\n",
              "      <td>4400</td>\n",
              "      <td>CPC</td>\n",
              "      <td>60.1</td>\n",
              "      <td>0</td>\n",
              "      <td>1183501</td>\n",
              "    </tr>\n",
              "  </tbody>\n",
              "</table>\n",
              "</div>"
            ],
            "text/plain": [
              "         date                 time  ... has_video target_audience_count\n",
              "0  2019-04-01  2019-04-01 00:00:48  ...         0               1955269\n",
              "1  2019-04-01  2019-04-01 00:00:48  ...         0                232011\n",
              "2  2019-04-01  2019-04-01 00:01:03  ...         0                  4410\n",
              "3  2019-04-01  2019-04-01 00:01:03  ...         0                 62711\n",
              "4  2019-04-01  2019-04-01 00:01:09  ...         0               1183501\n",
              "\n",
              "[5 rows x 11 columns]"
            ]
          },
          "metadata": {
            "tags": []
          },
          "execution_count": 10
        }
      ]
    },
    {
      "cell_type": "code",
      "metadata": {
        "id": "VvgidGG8iCtn"
      },
      "source": [
        "ads_clients_merged = ads_data.merge(ads_clients, how='inner', on='client_union_id')"
      ],
      "execution_count": null,
      "outputs": []
    },
    {
      "cell_type": "code",
      "metadata": {
        "id": "JCwPjsywiWst"
      },
      "source": [
        "ads_clients_merged = ads_clients_merged.rename(columns={'date_x':'date'})"
      ],
      "execution_count": null,
      "outputs": []
    },
    {
      "cell_type": "code",
      "metadata": {
        "id": "NMhlOcQqiYng"
      },
      "source": [
        "ads_clients_merged[['date', 'create_date']] = ads_clients_merged[['date', 'create_date']].apply(pd.to_datetime)"
      ],
      "execution_count": null,
      "outputs": []
    },
    {
      "cell_type": "code",
      "metadata": {
        "id": "1mbK1RdOi7YC"
      },
      "source": [
        "ads_clients_merged['time_diff'] = (ads_clients_merged['date'] - ads_clients_merged['create_date']).dt.days#без dt.days получается значение вида 8 days и не считается среднее"
      ],
      "execution_count": null,
      "outputs": []
    },
    {
      "cell_type": "code",
      "metadata": {
        "colab": {
          "base_uri": "https://localhost:8080/",
          "height": 172
        },
        "id": "5G1oqUUslIT3",
        "outputId": "b3a56d68-87d9-47cb-a19e-2936a970723a"
      },
      "source": [
        "ads_clients_merged.groupby('client_union_id').agg({'time_diff':'mean'}).head(3)"
      ],
      "execution_count": null,
      "outputs": [
        {
          "output_type": "execute_result",
          "data": {
            "text/html": [
              "<div>\n",
              "<style scoped>\n",
              "    .dataframe tbody tr th:only-of-type {\n",
              "        vertical-align: middle;\n",
              "    }\n",
              "\n",
              "    .dataframe tbody tr th {\n",
              "        vertical-align: top;\n",
              "    }\n",
              "\n",
              "    .dataframe thead th {\n",
              "        text-align: right;\n",
              "    }\n",
              "</style>\n",
              "<table border=\"1\" class=\"dataframe\">\n",
              "  <thead>\n",
              "    <tr style=\"text-align: right;\">\n",
              "      <th></th>\n",
              "      <th>time_diff</th>\n",
              "    </tr>\n",
              "    <tr>\n",
              "      <th>client_union_id</th>\n",
              "      <th></th>\n",
              "    </tr>\n",
              "  </thead>\n",
              "  <tbody>\n",
              "    <tr>\n",
              "      <th>1</th>\n",
              "      <td>98.155709</td>\n",
              "    </tr>\n",
              "    <tr>\n",
              "      <th>9</th>\n",
              "      <td>114.166667</td>\n",
              "    </tr>\n",
              "    <tr>\n",
              "      <th>13</th>\n",
              "      <td>66.200000</td>\n",
              "    </tr>\n",
              "  </tbody>\n",
              "</table>\n",
              "</div>"
            ],
            "text/plain": [
              "                  time_diff\n",
              "client_union_id            \n",
              "1                 98.155709\n",
              "9                114.166667\n",
              "13                66.200000"
            ]
          },
          "metadata": {
            "tags": []
          },
          "execution_count": 15
        }
      ]
    },
    {
      "cell_type": "code",
      "metadata": {
        "colab": {
          "base_uri": "https://localhost:8080/",
          "height": 447
        },
        "id": "8So6LaPMlfiB",
        "outputId": "fdf58fb8-9dc5-4c0e-eb4d-1e41ba73a707"
      },
      "source": [
        "ads_clients_merged.groupby('client_union_id').agg({'time_diff':'min'})# первый запуск рекламы соответствует минимальной разнице"
      ],
      "execution_count": null,
      "outputs": [
        {
          "output_type": "execute_result",
          "data": {
            "text/html": [
              "<div>\n",
              "<style scoped>\n",
              "    .dataframe tbody tr th:only-of-type {\n",
              "        vertical-align: middle;\n",
              "    }\n",
              "\n",
              "    .dataframe tbody tr th {\n",
              "        vertical-align: top;\n",
              "    }\n",
              "\n",
              "    .dataframe thead th {\n",
              "        text-align: right;\n",
              "    }\n",
              "</style>\n",
              "<table border=\"1\" class=\"dataframe\">\n",
              "  <thead>\n",
              "    <tr style=\"text-align: right;\">\n",
              "      <th></th>\n",
              "      <th>time_diff</th>\n",
              "    </tr>\n",
              "    <tr>\n",
              "      <th>client_union_id</th>\n",
              "      <th></th>\n",
              "    </tr>\n",
              "  </thead>\n",
              "  <tbody>\n",
              "    <tr>\n",
              "      <th>1</th>\n",
              "      <td>98</td>\n",
              "    </tr>\n",
              "    <tr>\n",
              "      <th>9</th>\n",
              "      <td>114</td>\n",
              "    </tr>\n",
              "    <tr>\n",
              "      <th>13</th>\n",
              "      <td>66</td>\n",
              "    </tr>\n",
              "    <tr>\n",
              "      <th>16</th>\n",
              "      <td>105</td>\n",
              "    </tr>\n",
              "    <tr>\n",
              "      <th>20</th>\n",
              "      <td>32</td>\n",
              "    </tr>\n",
              "    <tr>\n",
              "      <th>...</th>\n",
              "      <td>...</td>\n",
              "    </tr>\n",
              "    <tr>\n",
              "      <th>122004</th>\n",
              "      <td>67</td>\n",
              "    </tr>\n",
              "    <tr>\n",
              "      <th>122013</th>\n",
              "      <td>151</td>\n",
              "    </tr>\n",
              "    <tr>\n",
              "      <th>122023</th>\n",
              "      <td>126</td>\n",
              "    </tr>\n",
              "    <tr>\n",
              "      <th>122031</th>\n",
              "      <td>96</td>\n",
              "    </tr>\n",
              "    <tr>\n",
              "      <th>122078</th>\n",
              "      <td>71</td>\n",
              "    </tr>\n",
              "  </tbody>\n",
              "</table>\n",
              "<p>838 rows × 1 columns</p>\n",
              "</div>"
            ],
            "text/plain": [
              "                 time_diff\n",
              "client_union_id           \n",
              "1                       98\n",
              "9                      114\n",
              "13                      66\n",
              "16                     105\n",
              "20                      32\n",
              "...                    ...\n",
              "122004                  67\n",
              "122013                 151\n",
              "122023                 126\n",
              "122031                  96\n",
              "122078                  71\n",
              "\n",
              "[838 rows x 1 columns]"
            ]
          },
          "metadata": {
            "tags": []
          },
          "execution_count": 16
        }
      ]
    },
    {
      "cell_type": "code",
      "metadata": {
        "colab": {
          "base_uri": "https://localhost:8080/"
        },
        "id": "ULa2oWBalmNR",
        "outputId": "23f813f7-4089-4919-850c-d8774dd4f5bf"
      },
      "source": [
        "ads_clients_merged.groupby('client_union_id').agg({'time_diff':'min'}).mean()"
      ],
      "execution_count": null,
      "outputs": [
        {
          "output_type": "execute_result",
          "data": {
            "text/plain": [
              "time_diff    124.378282\n",
              "dtype: float64"
            ]
          },
          "metadata": {
            "tags": []
          },
          "execution_count": 17
        }
      ]
    },
    {
      "cell_type": "markdown",
      "metadata": {
        "id": "wDqMNz9npK8f"
      },
      "source": [
        "Вычислим конверсию из создания рекламного кабинета в запуск первой рекламы в течение не более 365 дней.\n",
        "\n",
        "Конверсия – отношение числа клиентов, которые совершили целевое действие (создали рекламу), к общему числу клиентов. Например, 1000 клиентов создали кабинет, но лишь 50 из них запустили рекламу. В таком случае конверсия будет равна\n",
        "\n",
        "50\\1000\n",
        "​\n",
        " ∗100=5%\n",
        "\n",
        "Чтобы отобрать данные за нужный промежуток, можно воспользоваться сравнением времени до создания первой рекламы с pd.Timedelta(365, unit='day')\n",
        "\n",
        "Ответ дайте в процентах и округлите до сотых"
      ]
    },
    {
      "cell_type": "code",
      "metadata": {
        "id": "OEEQqx-0r_YJ"
      },
      "source": [
        "ads_clients_merged = ads_data.merge(ads_clients, how='outer', on='client_union_id')#полностью объединяем оба датафрейма"
      ],
      "execution_count": null,
      "outputs": []
    },
    {
      "cell_type": "code",
      "metadata": {
        "id": "YecZcuXIsMjC"
      },
      "source": [
        "ads_clients_merged = ads_clients_merged.rename(columns={'date_x':'date'})#переименуем колонку с нужной датой"
      ],
      "execution_count": null,
      "outputs": []
    },
    {
      "cell_type": "code",
      "metadata": {
        "id": "UqNy81zisRGK"
      },
      "source": [
        "ads_clients_merged[['date', 'create_date']] = ads_clients_merged[['date', 'create_date']].apply(pd.to_datetime)"
      ],
      "execution_count": null,
      "outputs": []
    },
    {
      "cell_type": "code",
      "metadata": {
        "id": "qhDkooKzucQ6"
      },
      "source": [
        "ads_clients_merged['time_diff'] = (ads_clients_merged['date'] - ads_clients_merged['create_date'])"
      ],
      "execution_count": null,
      "outputs": []
    },
    {
      "cell_type": "code",
      "metadata": {
        "colab": {
          "base_uri": "https://localhost:8080/"
        },
        "id": "v-sfWd2fNjHj",
        "outputId": "e8ed5b6b-4b9d-4fd6-cdd7-ea31822e041b"
      },
      "source": [
        "round((ads_clients_merged.groupby('client_union_id').agg({'time_diff':'min'})['time_diff']#выбираем минимум, так как это соответсвует первому запуску рекламы\n",
        "                                              <= pd.Timedelta(365, unit=\"day\")).sum()/ads_clients.shape[0]*100,2)#делим на число клиентов из df с клиентами"
      ],
      "execution_count": null,
      "outputs": [
        {
          "output_type": "execute_result",
          "data": {
            "text/plain": [
              "0.69"
            ]
          },
          "metadata": {
            "tags": []
          },
          "execution_count": 123
        }
      ]
    },
    {
      "cell_type": "markdown",
      "metadata": {
        "id": "Jg3CHGQXUZE8"
      },
      "source": [
        "Давайте разобъем наших клиентов по промежуткам от создания рекламного кабинета до запуска первого рекламного объявления.\n",
        "\n",
        "Определите, сколько уникальных клиентов запустили свое первое объявление в первый месяц своего существования (от 0 до 30 дней). Список промежутков дней для метода pd.cut() – [0, 30, 90, 180, 365]. Создать временные промежутки можно с помощью pd.to_timedelta()."
      ]
    },
    {
      "cell_type": "code",
      "metadata": {
        "id": "bPuZuZBwUZsc"
      },
      "source": [
        "ads_clients_merged = ads_data.merge(ads_clients, how='inner', on='client_union_id')"
      ],
      "execution_count": null,
      "outputs": []
    },
    {
      "cell_type": "code",
      "metadata": {
        "id": "XdQtjk11V9Mp"
      },
      "source": [
        "ads_clients_merged = ads_clients_merged.rename(columns={'date_x':'date'})#переименуем колонку с нужной датой"
      ],
      "execution_count": null,
      "outputs": []
    },
    {
      "cell_type": "code",
      "metadata": {
        "id": "AK_7hmb0V94r"
      },
      "source": [
        "ads_clients_merged[['date', 'create_date']] = ads_clients_merged[['date', 'create_date']].apply(pd.to_datetime)"
      ],
      "execution_count": null,
      "outputs": []
    },
    {
      "cell_type": "code",
      "metadata": {
        "id": "OBqnu2riV1X4"
      },
      "source": [
        "ads_clients_merged['time_diff'] = (ads_clients_merged['date'] - ads_clients_merged['create_date'])"
      ],
      "execution_count": null,
      "outputs": []
    },
    {
      "cell_type": "code",
      "metadata": {
        "colab": {
          "base_uri": "https://localhost:8080/"
        },
        "id": "cXQTl-tcXB-f",
        "outputId": "42f2310c-a4e7-4a9d-c708-a5140ecef09b"
      },
      "source": [
        "pd.cut(ads_clients_merged.groupby('client_union_id').agg({'time_diff':'min'})['time_diff'], #тут min, так как надо выбрать именно первый запсук, т.е. берем минимальную разницу\n",
        "       pd.to_timedelta(['0d', '30d', '90d', '180d', '365d']), labels=['0-30','30-90', '90-180','180-365']).value_counts()"
      ],
      "execution_count": null,
      "outputs": [
        {
          "output_type": "execute_result",
          "data": {
            "text/plain": [
              "90-180     396\n",
              "30-90      263\n",
              "180-365    168\n",
              "0-30        11\n",
              "Name: time_diff, dtype: int64"
            ]
          },
          "metadata": {
            "tags": []
          },
          "execution_count": 125
        }
      ]
    },
    {
      "cell_type": "markdown",
      "metadata": {
        "id": "MWR523kmvuT_"
      },
      "source": [
        "Постройте интерактивный барплот, на котором будут показаны категории с количеством уникальных клиентов в них (то, что у вас получилось на прошлом степе, по запуску первого рекламного объявления). Расположите их так, чтобы внизу была самая малочисленная, а наверху – самая большая."
      ]
    },
    {
      "cell_type": "code",
      "metadata": {
        "colab": {
          "base_uri": "https://localhost:8080/"
        },
        "id": "Ya9hHBszW_tT",
        "outputId": "a8646717-c4b3-46a7-8062-a323b0362f4b"
      },
      "source": [
        "pip install plotly"
      ],
      "execution_count": null,
      "outputs": [
        {
          "output_type": "stream",
          "text": [
            "Requirement already satisfied: plotly in /usr/local/lib/python3.7/dist-packages (4.4.1)\n",
            "Requirement already satisfied: retrying>=1.3.3 in /usr/local/lib/python3.7/dist-packages (from plotly) (1.3.3)\n",
            "Requirement already satisfied: six in /usr/local/lib/python3.7/dist-packages (from plotly) (1.15.0)\n"
          ],
          "name": "stdout"
        }
      ]
    },
    {
      "cell_type": "code",
      "metadata": {
        "id": "bUY_YdYm2FWL"
      },
      "source": [
        "data = pd.cut(ads_clients_merged.groupby('client_union_id').agg({'time_diff':'min'})['time_diff'], #тут min, так как надо выбрать именно первый запсук, т.е. берем минимальную разницу\n",
        "       pd.to_timedelta(['0d', '30d', '90d', '180d', '365d']), labels=['0-30','30-90', '90-180','180-365']).value_counts()"
      ],
      "execution_count": null,
      "outputs": []
    },
    {
      "cell_type": "code",
      "metadata": {
        "id": "kt3xzNSV2nGS"
      },
      "source": [
        "data = pd.DataFrame(data).reset_index().rename(columns={'index':'interval', 'time_diff':'quantity'})"
      ],
      "execution_count": null,
      "outputs": []
    },
    {
      "cell_type": "code",
      "metadata": {
        "colab": {
          "base_uri": "https://localhost:8080/",
          "height": 542
        },
        "id": "V0Dd5P4qwZFZ",
        "outputId": "fc80f595-fa65-4ef8-dc82-185ffde509af"
      },
      "source": [
        "import plotly.express as px\n",
        "fig = px.bar(data, x='interval', y='quantity')\n",
        "fig.show()"
      ],
      "execution_count": null,
      "outputs": [
        {
          "output_type": "display_data",
          "data": {
            "text/html": [
              "<html>\n",
              "<head><meta charset=\"utf-8\" /></head>\n",
              "<body>\n",
              "    <div>\n",
              "            <script src=\"https://cdnjs.cloudflare.com/ajax/libs/mathjax/2.7.5/MathJax.js?config=TeX-AMS-MML_SVG\"></script><script type=\"text/javascript\">if (window.MathJax) {MathJax.Hub.Config({SVG: {font: \"STIX-Web\"}});}</script>\n",
              "                <script type=\"text/javascript\">window.PlotlyConfig = {MathJaxConfig: 'local'};</script>\n",
              "        <script src=\"https://cdn.plot.ly/plotly-latest.min.js\"></script>    \n",
              "            <div id=\"4242d344-ce16-4459-9bcf-08833a4d8a5c\" class=\"plotly-graph-div\" style=\"height:525px; width:100%;\"></div>\n",
              "            <script type=\"text/javascript\">\n",
              "                \n",
              "                    window.PLOTLYENV=window.PLOTLYENV || {};\n",
              "                    \n",
              "                if (document.getElementById(\"4242d344-ce16-4459-9bcf-08833a4d8a5c\")) {\n",
              "                    Plotly.newPlot(\n",
              "                        '4242d344-ce16-4459-9bcf-08833a4d8a5c',\n",
              "                        [{\"alignmentgroup\": \"True\", \"hoverlabel\": {\"namelength\": 0}, \"hovertemplate\": \"interval=%{x}<br>quantity=%{y}\", \"legendgroup\": \"\", \"marker\": {\"color\": \"#636efa\"}, \"name\": \"\", \"offsetgroup\": \"\", \"orientation\": \"v\", \"showlegend\": false, \"textposition\": \"auto\", \"type\": \"bar\", \"x\": [\"90-180\", \"30-90\", \"180-365\", \"0-30\"], \"xaxis\": \"x\", \"y\": [396, 263, 168, 11], \"yaxis\": \"y\"}],\n",
              "                        {\"barmode\": \"relative\", \"legend\": {\"tracegroupgap\": 0}, \"margin\": {\"t\": 60}, \"template\": {\"data\": {\"bar\": [{\"error_x\": {\"color\": \"#2a3f5f\"}, \"error_y\": {\"color\": \"#2a3f5f\"}, \"marker\": {\"line\": {\"color\": \"#E5ECF6\", \"width\": 0.5}}, \"type\": \"bar\"}], \"barpolar\": [{\"marker\": {\"line\": {\"color\": \"#E5ECF6\", \"width\": 0.5}}, \"type\": \"barpolar\"}], \"carpet\": [{\"aaxis\": {\"endlinecolor\": \"#2a3f5f\", \"gridcolor\": \"white\", \"linecolor\": \"white\", \"minorgridcolor\": \"white\", \"startlinecolor\": \"#2a3f5f\"}, \"baxis\": {\"endlinecolor\": \"#2a3f5f\", \"gridcolor\": \"white\", \"linecolor\": \"white\", \"minorgridcolor\": \"white\", \"startlinecolor\": \"#2a3f5f\"}, \"type\": \"carpet\"}], \"choropleth\": [{\"colorbar\": {\"outlinewidth\": 0, \"ticks\": \"\"}, \"type\": \"choropleth\"}], \"contour\": [{\"colorbar\": {\"outlinewidth\": 0, \"ticks\": \"\"}, \"colorscale\": [[0.0, \"#0d0887\"], [0.1111111111111111, \"#46039f\"], [0.2222222222222222, \"#7201a8\"], [0.3333333333333333, \"#9c179e\"], [0.4444444444444444, \"#bd3786\"], [0.5555555555555556, \"#d8576b\"], [0.6666666666666666, \"#ed7953\"], [0.7777777777777778, \"#fb9f3a\"], [0.8888888888888888, \"#fdca26\"], [1.0, \"#f0f921\"]], \"type\": \"contour\"}], \"contourcarpet\": [{\"colorbar\": {\"outlinewidth\": 0, \"ticks\": \"\"}, \"type\": \"contourcarpet\"}], \"heatmap\": [{\"colorbar\": {\"outlinewidth\": 0, \"ticks\": \"\"}, \"colorscale\": [[0.0, \"#0d0887\"], [0.1111111111111111, \"#46039f\"], [0.2222222222222222, \"#7201a8\"], [0.3333333333333333, \"#9c179e\"], [0.4444444444444444, \"#bd3786\"], [0.5555555555555556, \"#d8576b\"], [0.6666666666666666, \"#ed7953\"], [0.7777777777777778, \"#fb9f3a\"], [0.8888888888888888, \"#fdca26\"], [1.0, \"#f0f921\"]], \"type\": \"heatmap\"}], \"heatmapgl\": [{\"colorbar\": {\"outlinewidth\": 0, \"ticks\": \"\"}, \"colorscale\": [[0.0, \"#0d0887\"], [0.1111111111111111, \"#46039f\"], [0.2222222222222222, \"#7201a8\"], [0.3333333333333333, \"#9c179e\"], [0.4444444444444444, \"#bd3786\"], [0.5555555555555556, \"#d8576b\"], [0.6666666666666666, \"#ed7953\"], [0.7777777777777778, \"#fb9f3a\"], [0.8888888888888888, \"#fdca26\"], [1.0, \"#f0f921\"]], \"type\": \"heatmapgl\"}], \"histogram\": [{\"marker\": {\"colorbar\": {\"outlinewidth\": 0, \"ticks\": \"\"}}, \"type\": \"histogram\"}], \"histogram2d\": [{\"colorbar\": {\"outlinewidth\": 0, \"ticks\": \"\"}, \"colorscale\": [[0.0, \"#0d0887\"], [0.1111111111111111, \"#46039f\"], [0.2222222222222222, \"#7201a8\"], [0.3333333333333333, \"#9c179e\"], [0.4444444444444444, \"#bd3786\"], [0.5555555555555556, \"#d8576b\"], [0.6666666666666666, \"#ed7953\"], [0.7777777777777778, \"#fb9f3a\"], [0.8888888888888888, \"#fdca26\"], [1.0, \"#f0f921\"]], \"type\": \"histogram2d\"}], \"histogram2dcontour\": [{\"colorbar\": {\"outlinewidth\": 0, \"ticks\": \"\"}, \"colorscale\": [[0.0, \"#0d0887\"], [0.1111111111111111, \"#46039f\"], [0.2222222222222222, \"#7201a8\"], [0.3333333333333333, \"#9c179e\"], [0.4444444444444444, \"#bd3786\"], [0.5555555555555556, \"#d8576b\"], [0.6666666666666666, \"#ed7953\"], [0.7777777777777778, \"#fb9f3a\"], [0.8888888888888888, \"#fdca26\"], [1.0, \"#f0f921\"]], \"type\": \"histogram2dcontour\"}], \"mesh3d\": [{\"colorbar\": {\"outlinewidth\": 0, \"ticks\": \"\"}, \"type\": \"mesh3d\"}], \"parcoords\": [{\"line\": {\"colorbar\": {\"outlinewidth\": 0, \"ticks\": \"\"}}, \"type\": \"parcoords\"}], \"pie\": [{\"automargin\": true, \"type\": \"pie\"}], \"scatter\": [{\"marker\": {\"colorbar\": {\"outlinewidth\": 0, \"ticks\": \"\"}}, \"type\": \"scatter\"}], \"scatter3d\": [{\"line\": {\"colorbar\": {\"outlinewidth\": 0, \"ticks\": \"\"}}, \"marker\": {\"colorbar\": {\"outlinewidth\": 0, \"ticks\": \"\"}}, \"type\": \"scatter3d\"}], \"scattercarpet\": [{\"marker\": {\"colorbar\": {\"outlinewidth\": 0, \"ticks\": \"\"}}, \"type\": \"scattercarpet\"}], \"scattergeo\": [{\"marker\": {\"colorbar\": {\"outlinewidth\": 0, \"ticks\": \"\"}}, \"type\": \"scattergeo\"}], \"scattergl\": [{\"marker\": {\"colorbar\": {\"outlinewidth\": 0, \"ticks\": \"\"}}, \"type\": \"scattergl\"}], \"scattermapbox\": [{\"marker\": {\"colorbar\": {\"outlinewidth\": 0, \"ticks\": \"\"}}, \"type\": \"scattermapbox\"}], \"scatterpolar\": [{\"marker\": {\"colorbar\": {\"outlinewidth\": 0, \"ticks\": \"\"}}, \"type\": \"scatterpolar\"}], \"scatterpolargl\": [{\"marker\": {\"colorbar\": {\"outlinewidth\": 0, \"ticks\": \"\"}}, \"type\": \"scatterpolargl\"}], \"scatterternary\": [{\"marker\": {\"colorbar\": {\"outlinewidth\": 0, \"ticks\": \"\"}}, \"type\": \"scatterternary\"}], \"surface\": [{\"colorbar\": {\"outlinewidth\": 0, \"ticks\": \"\"}, \"colorscale\": [[0.0, \"#0d0887\"], [0.1111111111111111, \"#46039f\"], [0.2222222222222222, \"#7201a8\"], [0.3333333333333333, \"#9c179e\"], [0.4444444444444444, \"#bd3786\"], [0.5555555555555556, \"#d8576b\"], [0.6666666666666666, \"#ed7953\"], [0.7777777777777778, \"#fb9f3a\"], [0.8888888888888888, \"#fdca26\"], [1.0, \"#f0f921\"]], \"type\": \"surface\"}], \"table\": [{\"cells\": {\"fill\": {\"color\": \"#EBF0F8\"}, \"line\": {\"color\": \"white\"}}, \"header\": {\"fill\": {\"color\": \"#C8D4E3\"}, \"line\": {\"color\": \"white\"}}, \"type\": \"table\"}]}, \"layout\": {\"annotationdefaults\": {\"arrowcolor\": \"#2a3f5f\", \"arrowhead\": 0, \"arrowwidth\": 1}, \"coloraxis\": {\"colorbar\": {\"outlinewidth\": 0, \"ticks\": \"\"}}, \"colorscale\": {\"diverging\": [[0, \"#8e0152\"], [0.1, \"#c51b7d\"], [0.2, \"#de77ae\"], [0.3, \"#f1b6da\"], [0.4, \"#fde0ef\"], [0.5, \"#f7f7f7\"], [0.6, \"#e6f5d0\"], [0.7, \"#b8e186\"], [0.8, \"#7fbc41\"], [0.9, \"#4d9221\"], [1, \"#276419\"]], \"sequential\": [[0.0, \"#0d0887\"], [0.1111111111111111, \"#46039f\"], [0.2222222222222222, \"#7201a8\"], [0.3333333333333333, \"#9c179e\"], [0.4444444444444444, \"#bd3786\"], [0.5555555555555556, \"#d8576b\"], [0.6666666666666666, \"#ed7953\"], [0.7777777777777778, \"#fb9f3a\"], [0.8888888888888888, \"#fdca26\"], [1.0, \"#f0f921\"]], \"sequentialminus\": [[0.0, \"#0d0887\"], [0.1111111111111111, \"#46039f\"], [0.2222222222222222, \"#7201a8\"], [0.3333333333333333, \"#9c179e\"], [0.4444444444444444, \"#bd3786\"], [0.5555555555555556, \"#d8576b\"], [0.6666666666666666, \"#ed7953\"], [0.7777777777777778, \"#fb9f3a\"], [0.8888888888888888, \"#fdca26\"], [1.0, \"#f0f921\"]]}, \"colorway\": [\"#636efa\", \"#EF553B\", \"#00cc96\", \"#ab63fa\", \"#FFA15A\", \"#19d3f3\", \"#FF6692\", \"#B6E880\", \"#FF97FF\", \"#FECB52\"], \"font\": {\"color\": \"#2a3f5f\"}, \"geo\": {\"bgcolor\": \"white\", \"lakecolor\": \"white\", \"landcolor\": \"#E5ECF6\", \"showlakes\": true, \"showland\": true, \"subunitcolor\": \"white\"}, \"hoverlabel\": {\"align\": \"left\"}, \"hovermode\": \"closest\", \"mapbox\": {\"style\": \"light\"}, \"paper_bgcolor\": \"white\", \"plot_bgcolor\": \"#E5ECF6\", \"polar\": {\"angularaxis\": {\"gridcolor\": \"white\", \"linecolor\": \"white\", \"ticks\": \"\"}, \"bgcolor\": \"#E5ECF6\", \"radialaxis\": {\"gridcolor\": \"white\", \"linecolor\": \"white\", \"ticks\": \"\"}}, \"scene\": {\"xaxis\": {\"backgroundcolor\": \"#E5ECF6\", \"gridcolor\": \"white\", \"gridwidth\": 2, \"linecolor\": \"white\", \"showbackground\": true, \"ticks\": \"\", \"zerolinecolor\": \"white\"}, \"yaxis\": {\"backgroundcolor\": \"#E5ECF6\", \"gridcolor\": \"white\", \"gridwidth\": 2, \"linecolor\": \"white\", \"showbackground\": true, \"ticks\": \"\", \"zerolinecolor\": \"white\"}, \"zaxis\": {\"backgroundcolor\": \"#E5ECF6\", \"gridcolor\": \"white\", \"gridwidth\": 2, \"linecolor\": \"white\", \"showbackground\": true, \"ticks\": \"\", \"zerolinecolor\": \"white\"}}, \"shapedefaults\": {\"line\": {\"color\": \"#2a3f5f\"}}, \"ternary\": {\"aaxis\": {\"gridcolor\": \"white\", \"linecolor\": \"white\", \"ticks\": \"\"}, \"baxis\": {\"gridcolor\": \"white\", \"linecolor\": \"white\", \"ticks\": \"\"}, \"bgcolor\": \"#E5ECF6\", \"caxis\": {\"gridcolor\": \"white\", \"linecolor\": \"white\", \"ticks\": \"\"}}, \"title\": {\"x\": 0.05}, \"xaxis\": {\"automargin\": true, \"gridcolor\": \"white\", \"linecolor\": \"white\", \"ticks\": \"\", \"title\": {\"standoff\": 15}, \"zerolinecolor\": \"white\", \"zerolinewidth\": 2}, \"yaxis\": {\"automargin\": true, \"gridcolor\": \"white\", \"linecolor\": \"white\", \"ticks\": \"\", \"title\": {\"standoff\": 15}, \"zerolinecolor\": \"white\", \"zerolinewidth\": 2}}}, \"xaxis\": {\"anchor\": \"y\", \"domain\": [0.0, 1.0], \"title\": {\"text\": \"interval\"}}, \"yaxis\": {\"anchor\": \"x\", \"domain\": [0.0, 1.0], \"title\": {\"text\": \"quantity\"}}},\n",
              "                        {\"responsive\": true}\n",
              "                    ).then(function(){\n",
              "                            \n",
              "var gd = document.getElementById('4242d344-ce16-4459-9bcf-08833a4d8a5c');\n",
              "var x = new MutationObserver(function (mutations, observer) {{\n",
              "        var display = window.getComputedStyle(gd).display;\n",
              "        if (!display || display === 'none') {{\n",
              "            console.log([gd, 'removed!']);\n",
              "            Plotly.purge(gd);\n",
              "            observer.disconnect();\n",
              "        }}\n",
              "}});\n",
              "\n",
              "// Listen for the removal of the full notebook cells\n",
              "var notebookContainer = gd.closest('#notebook-container');\n",
              "if (notebookContainer) {{\n",
              "    x.observe(notebookContainer, {childList: true});\n",
              "}}\n",
              "\n",
              "// Listen for the clearing of the current output cell\n",
              "var outputEl = gd.closest('.output');\n",
              "if (outputEl) {{\n",
              "    x.observe(outputEl, {childList: true});\n",
              "}}\n",
              "\n",
              "                        })\n",
              "                };\n",
              "                \n",
              "            </script>\n",
              "        </div>\n",
              "</body>\n",
              "</html>"
            ]
          },
          "metadata": {
            "tags": []
          }
        }
      ]
    },
    {
      "cell_type": "code",
      "metadata": {
        "id": "ZvCVRWWC4Sfy"
      },
      "source": [
        ""
      ],
      "execution_count": null,
      "outputs": []
    }
  ]
}