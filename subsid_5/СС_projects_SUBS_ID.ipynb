{
 "cells": [
  {
   "cell_type": "markdown",
   "metadata": {},
   "source": [
    "# Дополнительный проект"
   ]
  },
  {
   "cell_type": "markdown",
   "metadata": {},
   "source": [
    "Каждый из имеющихся файлов содержит, как минимум, 4 колонки (поля): FILIAL_ID, SUBS_ID, PROD_ID, ACT_DTTM.  \n",
    "\n",
    "Суть задачи в том, чтобы проверить подключения продуктов определенным пользователям, соединив файлы о продажах с логами по подключениям в системе.  \n",
    "\n",
    "Особенности данных:  \n",
    "\n",
    "- сотрудники телемаркетинга не всегда указывают полный id, если  \n",
    "'id' нет в начале SUBS_ID, то нужно его добавить  \n",
    "- поля в файлах могут быть расположены абсолютно случайным образом, но названия полей статичны  \n",
    "- продажа не засчитывается, если отключение (END_DTTM) произошло меньше  \n",
    "чем через 5 минут после подключения (START_DTTM)  \n",
    "- если в файле с продажами встречается строка без указанного SUBS_ID, она пропускается  \n",
    "\n",
    "Сохраните результат в датафрэйм с разделителем ;, содержащий корректные подключения."
   ]
  },
  {
   "cell_type": "code",
   "execution_count": 2,
   "metadata": {},
   "outputs": [],
   "source": [
    "import os\n",
    "\n",
    "import pandas as pd\n",
    "import matplotlib.pyplot as plt\n",
    "import seaborn as sns\n",
    "import numpy as np"
   ]
  },
  {
   "cell_type": "code",
   "execution_count": 176,
   "metadata": {},
   "outputs": [
    {
     "name": "stdout",
     "output_type": "stream",
     "text": [
      "prod_activations_logs.csv\n",
      "Index(['SUBS_ID', 'PROD_ID', 'START_DTTM', 'END_DTTM'], dtype='object')\n",
      "tm_sales_1.csv\n",
      "Index(['SUBS_ID', 'FILIAL_ID', 'PROD_ID', 'ACT_DTTM'], dtype='object')\n",
      "tm_sales_2.csv\n",
      "Index(['FILIAL_ID', 'SUBS_ID', 'PROD_ID', 'ACT_DTTM'], dtype='object')\n",
      "tm_sales_3.csv\n",
      "Index(['FILIAL_ID', 'PROD_ID', 'SUBS_ID', 'ACT_DTTM'], dtype='object')\n"
     ]
    },
    {
     "data": {
      "text/plain": [
       "True"
      ]
     },
     "execution_count": 176,
     "metadata": {},
     "output_type": "execute_result"
    }
   ],
   "source": [
    "empty_df = pd.DataFrame()\n",
    "shape_0 = 0#счетчик для проверки того, что мы не потеряли строки при слиянии\n",
    "\n",
    "path = 'd://Carpov_courses/projects/subsid_5'\n",
    "files = os.listdir(path)#список всех файлов с данными\n",
    "\n",
    "for file in files:\n",
    "    file_path = path + '/' + file\n",
    "    if file != 'prod_activations_logs.csv':\n",
    "        \n",
    "        df = pd.read_csv(file_path, sep=';')\n",
    "        df_temp = pd.concat([empty_df, df], ignore_index=True)\n",
    "        empty_df = df_temp\n",
    "        \n",
    "        shape_0 += df.shape[0]\n",
    "        \n",
    "        print(file)\n",
    "        print(df.columns)\n",
    "    else:\n",
    "        df_logs = pd.read_csv(file_path, sep=';')\n",
    "        print(file)\n",
    "        print(df_logs.columns)\n",
    "\n",
    "df = empty_df\n",
    "\n",
    "shape_0 == df.shape[0]#если True, то ничего не потеряли"
   ]
  },
  {
   "cell_type": "code",
   "execution_count": 177,
   "metadata": {},
   "outputs": [],
   "source": [
    "df.dropna(inplace = True)#убарием пропущенные значения"
   ]
  },
  {
   "cell_type": "code",
   "execution_count": 178,
   "metadata": {},
   "outputs": [],
   "source": [
    "#функция, которая добавляет id в идентификатор, если его нет\n",
    "def id_adding(x):\n",
    "    if 'id' in x:\n",
    "        pass\n",
    "    else:\n",
    "        x = 'id' + x\n",
    "    return x"
   ]
  },
  {
   "cell_type": "code",
   "execution_count": 179,
   "metadata": {},
   "outputs": [
    {
     "data": {
      "text/html": [
       "<div>\n",
       "<style scoped>\n",
       "    .dataframe tbody tr th:only-of-type {\n",
       "        vertical-align: middle;\n",
       "    }\n",
       "\n",
       "    .dataframe tbody tr th {\n",
       "        vertical-align: top;\n",
       "    }\n",
       "\n",
       "    .dataframe thead th {\n",
       "        text-align: right;\n",
       "    }\n",
       "</style>\n",
       "<table border=\"1\" class=\"dataframe\">\n",
       "  <thead>\n",
       "    <tr style=\"text-align: right;\">\n",
       "      <th></th>\n",
       "      <th>SUBS_ID</th>\n",
       "      <th>FILIAL_ID</th>\n",
       "      <th>PROD_ID</th>\n",
       "      <th>ACT_DTTM</th>\n",
       "    </tr>\n",
       "  </thead>\n",
       "  <tbody>\n",
       "    <tr>\n",
       "      <th>0</th>\n",
       "      <td>id4651830</td>\n",
       "      <td>1</td>\n",
       "      <td>1954</td>\n",
       "      <td>20-03-2020 14:59</td>\n",
       "    </tr>\n",
       "    <tr>\n",
       "      <th>1</th>\n",
       "      <td>id7646509</td>\n",
       "      <td>5</td>\n",
       "      <td>6431</td>\n",
       "      <td>19-03-2020 13:00</td>\n",
       "    </tr>\n",
       "    <tr>\n",
       "      <th>2</th>\n",
       "      <td>id7412683</td>\n",
       "      <td>4</td>\n",
       "      <td>3313</td>\n",
       "      <td>22-03-2020 17:25</td>\n",
       "    </tr>\n",
       "    <tr>\n",
       "      <th>3</th>\n",
       "      <td>id5416547</td>\n",
       "      <td>3</td>\n",
       "      <td>1743</td>\n",
       "      <td>17-03-2020 10:17</td>\n",
       "    </tr>\n",
       "    <tr>\n",
       "      <th>5</th>\n",
       "      <td>id8362218</td>\n",
       "      <td>7</td>\n",
       "      <td>9879</td>\n",
       "      <td>05-03-2020 11:42</td>\n",
       "    </tr>\n",
       "  </tbody>\n",
       "</table>\n",
       "</div>"
      ],
      "text/plain": [
       "     SUBS_ID  FILIAL_ID  PROD_ID          ACT_DTTM\n",
       "0  id4651830          1     1954  20-03-2020 14:59\n",
       "1  id7646509          5     6431  19-03-2020 13:00\n",
       "2  id7412683          4     3313  22-03-2020 17:25\n",
       "3  id5416547          3     1743  17-03-2020 10:17\n",
       "5  id8362218          7     9879  05-03-2020 11:42"
      ]
     },
     "execution_count": 179,
     "metadata": {},
     "output_type": "execute_result"
    }
   ],
   "source": [
    "df['SUBS_ID'] = df['SUBS_ID'].apply(id_adding)\n",
    "df.head()"
   ]
  },
  {
   "cell_type": "code",
   "execution_count": 181,
   "metadata": {},
   "outputs": [
    {
     "data": {
      "text/html": [
       "<div>\n",
       "<style scoped>\n",
       "    .dataframe tbody tr th:only-of-type {\n",
       "        vertical-align: middle;\n",
       "    }\n",
       "\n",
       "    .dataframe tbody tr th {\n",
       "        vertical-align: top;\n",
       "    }\n",
       "\n",
       "    .dataframe thead th {\n",
       "        text-align: right;\n",
       "    }\n",
       "</style>\n",
       "<table border=\"1\" class=\"dataframe\">\n",
       "  <thead>\n",
       "    <tr style=\"text-align: right;\">\n",
       "      <th></th>\n",
       "      <th>SUBS_ID</th>\n",
       "      <th>PROD_ID</th>\n",
       "      <th>START_DTTM</th>\n",
       "      <th>END_DTTM</th>\n",
       "      <th>FILIAL_ID</th>\n",
       "      <th>ACT_DTTM</th>\n",
       "    </tr>\n",
       "  </thead>\n",
       "  <tbody>\n",
       "    <tr>\n",
       "      <th>0</th>\n",
       "      <td>id4651830</td>\n",
       "      <td>1954</td>\n",
       "      <td>20-03-2020 14:59</td>\n",
       "      <td>01-12-2020 00:00</td>\n",
       "      <td>1</td>\n",
       "      <td>20-03-2020 14:59</td>\n",
       "    </tr>\n",
       "    <tr>\n",
       "      <th>1</th>\n",
       "      <td>id7646509</td>\n",
       "      <td>6431</td>\n",
       "      <td>19-03-2020 13:00</td>\n",
       "      <td>19-03-2020 13:03</td>\n",
       "      <td>5</td>\n",
       "      <td>19-03-2020 13:00</td>\n",
       "    </tr>\n",
       "    <tr>\n",
       "      <th>2</th>\n",
       "      <td>id5416547</td>\n",
       "      <td>1743</td>\n",
       "      <td>17-03-2020 10:17</td>\n",
       "      <td>25-03-2020 11:00</td>\n",
       "      <td>3</td>\n",
       "      <td>17-03-2020 10:17</td>\n",
       "    </tr>\n",
       "    <tr>\n",
       "      <th>3</th>\n",
       "      <td>id2185490</td>\n",
       "      <td>3210</td>\n",
       "      <td>16-03-2020 16:28</td>\n",
       "      <td>01-12-2020 00:00</td>\n",
       "      <td>2</td>\n",
       "      <td>16-03-2020 16:28</td>\n",
       "    </tr>\n",
       "    <tr>\n",
       "      <th>4</th>\n",
       "      <td>id7642700</td>\n",
       "      <td>3020</td>\n",
       "      <td>15-03-2020 14:21</td>\n",
       "      <td>15-03-2020 23:42</td>\n",
       "      <td>6</td>\n",
       "      <td>15-03-2020 14:21</td>\n",
       "    </tr>\n",
       "  </tbody>\n",
       "</table>\n",
       "</div>"
      ],
      "text/plain": [
       "     SUBS_ID  PROD_ID        START_DTTM          END_DTTM  FILIAL_ID  \\\n",
       "0  id4651830     1954  20-03-2020 14:59  01-12-2020 00:00          1   \n",
       "1  id7646509     6431  19-03-2020 13:00  19-03-2020 13:03          5   \n",
       "2  id5416547     1743  17-03-2020 10:17  25-03-2020 11:00          3   \n",
       "3  id2185490     3210  16-03-2020 16:28  01-12-2020 00:00          2   \n",
       "4  id7642700     3020  15-03-2020 14:21  15-03-2020 23:42          6   \n",
       "\n",
       "           ACT_DTTM  \n",
       "0  20-03-2020 14:59  \n",
       "1  19-03-2020 13:00  \n",
       "2  17-03-2020 10:17  \n",
       "3  16-03-2020 16:28  \n",
       "4  15-03-2020 14:21  "
      ]
     },
     "execution_count": 181,
     "metadata": {},
     "output_type": "execute_result"
    }
   ],
   "source": [
    "df_logs = df_logs.merge(df, how='inner', on=['SUBS_ID','PROD_ID'])\n",
    "df_logs"
   ]
  },
  {
   "cell_type": "code",
   "execution_count": 167,
   "metadata": {},
   "outputs": [
    {
     "data": {
      "text/plain": [
       "Timestamp('2020-03-19 13:03:00')"
      ]
     },
     "execution_count": 167,
     "metadata": {},
     "output_type": "execute_result"
    }
   ],
   "source": [
    "pd.to_datetime(df_logs['END_DTTM'][1])"
   ]
  },
  {
   "cell_type": "code",
   "execution_count": 182,
   "metadata": {},
   "outputs": [],
   "source": [
    "#переводим в формат времени колонки с датой\n",
    "df_logs[['START_DTTM','END_DTTM','ACT_DTTM']] = df_logs[['START_DTTM','END_DTTM','ACT_DTTM']] \\\n",
    ".apply(pd.to_datetime, format='%d-%m-%Y %H:%M')"
   ]
  },
  {
   "cell_type": "code",
   "execution_count": 183,
   "metadata": {},
   "outputs": [
    {
     "data": {
      "text/html": [
       "<div>\n",
       "<style scoped>\n",
       "    .dataframe tbody tr th:only-of-type {\n",
       "        vertical-align: middle;\n",
       "    }\n",
       "\n",
       "    .dataframe tbody tr th {\n",
       "        vertical-align: top;\n",
       "    }\n",
       "\n",
       "    .dataframe thead th {\n",
       "        text-align: right;\n",
       "    }\n",
       "</style>\n",
       "<table border=\"1\" class=\"dataframe\">\n",
       "  <thead>\n",
       "    <tr style=\"text-align: right;\">\n",
       "      <th></th>\n",
       "      <th>SUBS_ID</th>\n",
       "      <th>PROD_ID</th>\n",
       "      <th>START_DTTM</th>\n",
       "      <th>END_DTTM</th>\n",
       "      <th>FILIAL_ID</th>\n",
       "      <th>ACT_DTTM</th>\n",
       "    </tr>\n",
       "  </thead>\n",
       "  <tbody>\n",
       "    <tr>\n",
       "      <th>0</th>\n",
       "      <td>id4651830</td>\n",
       "      <td>1954</td>\n",
       "      <td>2020-03-20 14:59:00</td>\n",
       "      <td>2020-12-01 00:00:00</td>\n",
       "      <td>1</td>\n",
       "      <td>2020-03-20 14:59:00</td>\n",
       "    </tr>\n",
       "    <tr>\n",
       "      <th>1</th>\n",
       "      <td>id7646509</td>\n",
       "      <td>6431</td>\n",
       "      <td>2020-03-19 13:00:00</td>\n",
       "      <td>2020-03-19 13:03:00</td>\n",
       "      <td>5</td>\n",
       "      <td>2020-03-19 13:00:00</td>\n",
       "    </tr>\n",
       "    <tr>\n",
       "      <th>2</th>\n",
       "      <td>id5416547</td>\n",
       "      <td>1743</td>\n",
       "      <td>2020-03-17 10:17:00</td>\n",
       "      <td>2020-03-25 11:00:00</td>\n",
       "      <td>3</td>\n",
       "      <td>2020-03-17 10:17:00</td>\n",
       "    </tr>\n",
       "    <tr>\n",
       "      <th>3</th>\n",
       "      <td>id2185490</td>\n",
       "      <td>3210</td>\n",
       "      <td>2020-03-16 16:28:00</td>\n",
       "      <td>2020-12-01 00:00:00</td>\n",
       "      <td>2</td>\n",
       "      <td>2020-03-16 16:28:00</td>\n",
       "    </tr>\n",
       "    <tr>\n",
       "      <th>4</th>\n",
       "      <td>id7642700</td>\n",
       "      <td>3020</td>\n",
       "      <td>2020-03-15 14:21:00</td>\n",
       "      <td>2020-03-15 23:42:00</td>\n",
       "      <td>6</td>\n",
       "      <td>2020-03-15 14:21:00</td>\n",
       "    </tr>\n",
       "  </tbody>\n",
       "</table>\n",
       "</div>"
      ],
      "text/plain": [
       "     SUBS_ID  PROD_ID          START_DTTM            END_DTTM  FILIAL_ID  \\\n",
       "0  id4651830     1954 2020-03-20 14:59:00 2020-12-01 00:00:00          1   \n",
       "1  id7646509     6431 2020-03-19 13:00:00 2020-03-19 13:03:00          5   \n",
       "2  id5416547     1743 2020-03-17 10:17:00 2020-03-25 11:00:00          3   \n",
       "3  id2185490     3210 2020-03-16 16:28:00 2020-12-01 00:00:00          2   \n",
       "4  id7642700     3020 2020-03-15 14:21:00 2020-03-15 23:42:00          6   \n",
       "\n",
       "             ACT_DTTM  \n",
       "0 2020-03-20 14:59:00  \n",
       "1 2020-03-19 13:00:00  \n",
       "2 2020-03-17 10:17:00  \n",
       "3 2020-03-16 16:28:00  \n",
       "4 2020-03-15 14:21:00  "
      ]
     },
     "execution_count": 183,
     "metadata": {},
     "output_type": "execute_result"
    }
   ],
   "source": [
    "df_logs"
   ]
  },
  {
   "cell_type": "code",
   "execution_count": 170,
   "metadata": {},
   "outputs": [
    {
     "data": {
      "text/plain": [
       "0   2020-03-20 14:59:00\n",
       "1   2020-03-19 13:00:00\n",
       "2   2020-03-17 10:17:00\n",
       "3   2020-03-16 16:28:00\n",
       "4   2020-03-15 14:21:00\n",
       "Name: START_DTTM, dtype: datetime64[ns]"
      ]
     },
     "execution_count": 170,
     "metadata": {},
     "output_type": "execute_result"
    }
   ],
   "source": [
    "df_logs['START_DTTM']"
   ]
  },
  {
   "cell_type": "code",
   "execution_count": 171,
   "metadata": {},
   "outputs": [
    {
     "data": {
      "text/plain": [
       "0   2020-12-01 00:00:00\n",
       "1   2020-03-19 13:03:00\n",
       "2   2020-03-25 11:00:00\n",
       "3   2020-12-01 00:00:00\n",
       "4   2020-03-15 23:42:00\n",
       "Name: END_DTTM, dtype: datetime64[ns]"
      ]
     },
     "execution_count": 171,
     "metadata": {},
     "output_type": "execute_result"
    }
   ],
   "source": [
    "df_logs['END_DTTM']"
   ]
  },
  {
   "cell_type": "code",
   "execution_count": 184,
   "metadata": {},
   "outputs": [
    {
     "data": {
      "text/html": [
       "<div>\n",
       "<style scoped>\n",
       "    .dataframe tbody tr th:only-of-type {\n",
       "        vertical-align: middle;\n",
       "    }\n",
       "\n",
       "    .dataframe tbody tr th {\n",
       "        vertical-align: top;\n",
       "    }\n",
       "\n",
       "    .dataframe thead th {\n",
       "        text-align: right;\n",
       "    }\n",
       "</style>\n",
       "<table border=\"1\" class=\"dataframe\">\n",
       "  <thead>\n",
       "    <tr style=\"text-align: right;\">\n",
       "      <th></th>\n",
       "      <th>SUBS_ID</th>\n",
       "      <th>PROD_ID</th>\n",
       "      <th>START_DTTM</th>\n",
       "      <th>END_DTTM</th>\n",
       "      <th>FILIAL_ID</th>\n",
       "      <th>ACT_DTTM</th>\n",
       "      <th>DELTA</th>\n",
       "    </tr>\n",
       "  </thead>\n",
       "  <tbody>\n",
       "    <tr>\n",
       "      <th>0</th>\n",
       "      <td>id4651830</td>\n",
       "      <td>1954</td>\n",
       "      <td>2020-03-20 14:59:00</td>\n",
       "      <td>2020-12-01 00:00:00</td>\n",
       "      <td>1</td>\n",
       "      <td>2020-03-20 14:59:00</td>\n",
       "      <td>255 days 09:01:00</td>\n",
       "    </tr>\n",
       "    <tr>\n",
       "      <th>1</th>\n",
       "      <td>id7646509</td>\n",
       "      <td>6431</td>\n",
       "      <td>2020-03-19 13:00:00</td>\n",
       "      <td>2020-03-19 13:03:00</td>\n",
       "      <td>5</td>\n",
       "      <td>2020-03-19 13:00:00</td>\n",
       "      <td>0 days 00:03:00</td>\n",
       "    </tr>\n",
       "    <tr>\n",
       "      <th>2</th>\n",
       "      <td>id5416547</td>\n",
       "      <td>1743</td>\n",
       "      <td>2020-03-17 10:17:00</td>\n",
       "      <td>2020-03-25 11:00:00</td>\n",
       "      <td>3</td>\n",
       "      <td>2020-03-17 10:17:00</td>\n",
       "      <td>8 days 00:43:00</td>\n",
       "    </tr>\n",
       "    <tr>\n",
       "      <th>3</th>\n",
       "      <td>id2185490</td>\n",
       "      <td>3210</td>\n",
       "      <td>2020-03-16 16:28:00</td>\n",
       "      <td>2020-12-01 00:00:00</td>\n",
       "      <td>2</td>\n",
       "      <td>2020-03-16 16:28:00</td>\n",
       "      <td>259 days 07:32:00</td>\n",
       "    </tr>\n",
       "    <tr>\n",
       "      <th>4</th>\n",
       "      <td>id7642700</td>\n",
       "      <td>3020</td>\n",
       "      <td>2020-03-15 14:21:00</td>\n",
       "      <td>2020-03-15 23:42:00</td>\n",
       "      <td>6</td>\n",
       "      <td>2020-03-15 14:21:00</td>\n",
       "      <td>0 days 09:21:00</td>\n",
       "    </tr>\n",
       "  </tbody>\n",
       "</table>\n",
       "</div>"
      ],
      "text/plain": [
       "     SUBS_ID  PROD_ID          START_DTTM            END_DTTM  FILIAL_ID  \\\n",
       "0  id4651830     1954 2020-03-20 14:59:00 2020-12-01 00:00:00          1   \n",
       "1  id7646509     6431 2020-03-19 13:00:00 2020-03-19 13:03:00          5   \n",
       "2  id5416547     1743 2020-03-17 10:17:00 2020-03-25 11:00:00          3   \n",
       "3  id2185490     3210 2020-03-16 16:28:00 2020-12-01 00:00:00          2   \n",
       "4  id7642700     3020 2020-03-15 14:21:00 2020-03-15 23:42:00          6   \n",
       "\n",
       "             ACT_DTTM             DELTA  \n",
       "0 2020-03-20 14:59:00 255 days 09:01:00  \n",
       "1 2020-03-19 13:00:00   0 days 00:03:00  \n",
       "2 2020-03-17 10:17:00   8 days 00:43:00  \n",
       "3 2020-03-16 16:28:00 259 days 07:32:00  \n",
       "4 2020-03-15 14:21:00   0 days 09:21:00  "
      ]
     },
     "execution_count": 184,
     "metadata": {},
     "output_type": "execute_result"
    }
   ],
   "source": [
    "df_logs['DELTA'] =  df_logs['END_DTTM'] - df_logs['START_DTTM']\n",
    "df_logs"
   ]
  },
  {
   "cell_type": "code",
   "execution_count": 185,
   "metadata": {},
   "outputs": [],
   "source": [
    "df_logs['TRUE'] = np.where(df_logs['DELTA'].dt.total_seconds()/60 > 5, True, False)"
   ]
  },
  {
   "cell_type": "code",
   "execution_count": 186,
   "metadata": {},
   "outputs": [
    {
     "data": {
      "text/html": [
       "<div>\n",
       "<style scoped>\n",
       "    .dataframe tbody tr th:only-of-type {\n",
       "        vertical-align: middle;\n",
       "    }\n",
       "\n",
       "    .dataframe tbody tr th {\n",
       "        vertical-align: top;\n",
       "    }\n",
       "\n",
       "    .dataframe thead th {\n",
       "        text-align: right;\n",
       "    }\n",
       "</style>\n",
       "<table border=\"1\" class=\"dataframe\">\n",
       "  <thead>\n",
       "    <tr style=\"text-align: right;\">\n",
       "      <th></th>\n",
       "      <th>SUBS_ID</th>\n",
       "      <th>PROD_ID</th>\n",
       "      <th>START_DTTM</th>\n",
       "      <th>END_DTTM</th>\n",
       "      <th>FILIAL_ID</th>\n",
       "      <th>ACT_DTTM</th>\n",
       "      <th>DELTA</th>\n",
       "      <th>TRUE</th>\n",
       "    </tr>\n",
       "  </thead>\n",
       "  <tbody>\n",
       "    <tr>\n",
       "      <th>0</th>\n",
       "      <td>id4651830</td>\n",
       "      <td>1954</td>\n",
       "      <td>2020-03-20 14:59:00</td>\n",
       "      <td>2020-12-01 00:00:00</td>\n",
       "      <td>1</td>\n",
       "      <td>2020-03-20 14:59:00</td>\n",
       "      <td>255 days 09:01:00</td>\n",
       "      <td>True</td>\n",
       "    </tr>\n",
       "    <tr>\n",
       "      <th>1</th>\n",
       "      <td>id7646509</td>\n",
       "      <td>6431</td>\n",
       "      <td>2020-03-19 13:00:00</td>\n",
       "      <td>2020-03-19 13:03:00</td>\n",
       "      <td>5</td>\n",
       "      <td>2020-03-19 13:00:00</td>\n",
       "      <td>0 days 00:03:00</td>\n",
       "      <td>False</td>\n",
       "    </tr>\n",
       "    <tr>\n",
       "      <th>2</th>\n",
       "      <td>id5416547</td>\n",
       "      <td>1743</td>\n",
       "      <td>2020-03-17 10:17:00</td>\n",
       "      <td>2020-03-25 11:00:00</td>\n",
       "      <td>3</td>\n",
       "      <td>2020-03-17 10:17:00</td>\n",
       "      <td>8 days 00:43:00</td>\n",
       "      <td>True</td>\n",
       "    </tr>\n",
       "    <tr>\n",
       "      <th>3</th>\n",
       "      <td>id2185490</td>\n",
       "      <td>3210</td>\n",
       "      <td>2020-03-16 16:28:00</td>\n",
       "      <td>2020-12-01 00:00:00</td>\n",
       "      <td>2</td>\n",
       "      <td>2020-03-16 16:28:00</td>\n",
       "      <td>259 days 07:32:00</td>\n",
       "      <td>True</td>\n",
       "    </tr>\n",
       "    <tr>\n",
       "      <th>4</th>\n",
       "      <td>id7642700</td>\n",
       "      <td>3020</td>\n",
       "      <td>2020-03-15 14:21:00</td>\n",
       "      <td>2020-03-15 23:42:00</td>\n",
       "      <td>6</td>\n",
       "      <td>2020-03-15 14:21:00</td>\n",
       "      <td>0 days 09:21:00</td>\n",
       "      <td>True</td>\n",
       "    </tr>\n",
       "  </tbody>\n",
       "</table>\n",
       "</div>"
      ],
      "text/plain": [
       "     SUBS_ID  PROD_ID          START_DTTM            END_DTTM  FILIAL_ID  \\\n",
       "0  id4651830     1954 2020-03-20 14:59:00 2020-12-01 00:00:00          1   \n",
       "1  id7646509     6431 2020-03-19 13:00:00 2020-03-19 13:03:00          5   \n",
       "2  id5416547     1743 2020-03-17 10:17:00 2020-03-25 11:00:00          3   \n",
       "3  id2185490     3210 2020-03-16 16:28:00 2020-12-01 00:00:00          2   \n",
       "4  id7642700     3020 2020-03-15 14:21:00 2020-03-15 23:42:00          6   \n",
       "\n",
       "             ACT_DTTM             DELTA   TRUE  \n",
       "0 2020-03-20 14:59:00 255 days 09:01:00   True  \n",
       "1 2020-03-19 13:00:00   0 days 00:03:00  False  \n",
       "2 2020-03-17 10:17:00   8 days 00:43:00   True  \n",
       "3 2020-03-16 16:28:00 259 days 07:32:00   True  \n",
       "4 2020-03-15 14:21:00   0 days 09:21:00   True  "
      ]
     },
     "execution_count": 186,
     "metadata": {},
     "output_type": "execute_result"
    }
   ],
   "source": [
    "df_logs"
   ]
  },
  {
   "cell_type": "code",
   "execution_count": 192,
   "metadata": {},
   "outputs": [],
   "source": [
    "ids = list(df_logs.query('TRUE != 0').sort_values('SUBS_ID')['SUBS_ID'])"
   ]
  },
  {
   "cell_type": "code",
   "execution_count": 193,
   "metadata": {},
   "outputs": [
    {
     "data": {
      "text/plain": [
       "['id2185490', 'id4651830', 'id5416547', 'id7642700']"
      ]
     },
     "execution_count": 193,
     "metadata": {},
     "output_type": "execute_result"
    }
   ],
   "source": [
    "ids"
   ]
  },
  {
   "cell_type": "code",
   "execution_count": 195,
   "metadata": {},
   "outputs": [],
   "source": [
    "df_logs.to_csv('data_logs', sep=';')"
   ]
  }
 ],
 "metadata": {
  "kernelspec": {
   "display_name": "Python 3",
   "language": "python",
   "name": "python3"
  },
  "language_info": {
   "codemirror_mode": {
    "name": "ipython",
    "version": 3
   },
   "file_extension": ".py",
   "mimetype": "text/x-python",
   "name": "python",
   "nbconvert_exporter": "python",
   "pygments_lexer": "ipython3",
   "version": "3.7.3"
  }
 },
 "nbformat": 4,
 "nbformat_minor": 2
}
