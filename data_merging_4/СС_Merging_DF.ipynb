{
  "nbformat": 4,
  "nbformat_minor": 0,
  "metadata": {
    "colab": {
      "name": "СС_Merging_DF.ipynb",
      "provenance": [],
      "collapsed_sections": []
    },
    "kernelspec": {
      "name": "python3",
      "display_name": "Python 3"
    },
    "language_info": {
      "name": "python"
    }
  },
  "cells": [
    {
      "cell_type": "code",
      "metadata": {
        "colab": {
          "base_uri": "https://localhost:8080/"
        },
        "id": "Ctj3sVSMpbdG",
        "outputId": "9aee330c-4c2d-4cdc-d7d5-d3791e131c2a"
      },
      "source": [
        "from google.colab import drive\n",
        "drive.mount('/content/drive')"
      ],
      "execution_count": 1,
      "outputs": [
        {
          "output_type": "stream",
          "text": [
            "Mounted at /content/drive\n"
          ],
          "name": "stdout"
        }
      ]
    },
    {
      "cell_type": "code",
      "metadata": {
        "id": "uJ8ftsrCqsSl"
      },
      "source": [
        "import os\n",
        "import pandas as pd\n",
        "import matplotlib.pyplot as plt\n",
        "import seaborn as sns\n",
        "import numpy as np"
      ],
      "execution_count": 2,
      "outputs": []
    },
    {
      "cell_type": "markdown",
      "metadata": {
        "id": "xAhLOOUsDvKB"
      },
      "source": [
        "Соберите все данные из папки data в один датафрэйм, имеющий следующие столбцы: колонки из самих файлов (product_id, quantity), имя пользователя (name), и дату этих покупок (date, соответствует названию папки, где лежит папка с пользователем)."
      ]
    },
    {
      "cell_type": "code",
      "metadata": {
        "colab": {
          "base_uri": "https://localhost:8080/",
          "height": 35
        },
        "id": "-nTbn3r2qzSc",
        "outputId": "16967d92-d612-420d-e915-5de77f128e2a"
      },
      "source": [
        "first_folder = os.listdir(\"/content/drive/My Drive/Data for Collab/Carpov_Courses/\")[0]#получаем первую папку\n",
        "first_folder"
      ],
      "execution_count": 3,
      "outputs": [
        {
          "output_type": "execute_result",
          "data": {
            "application/vnd.google.colaboratory.intrinsic+json": {
              "type": "string"
            },
            "text/plain": [
              "'data'"
            ]
          },
          "metadata": {
            "tags": []
          },
          "execution_count": 3
        }
      ]
    },
    {
      "cell_type": "code",
      "metadata": {
        "colab": {
          "base_uri": "https://localhost:8080/"
        },
        "id": "9vJhqd33wu4Z",
        "outputId": "8e432dd7-0b7b-4fa6-ba3e-ed15ca38fda9"
      },
      "source": [
        "dates = os.listdir(\"/content/drive/My Drive/Data for Collab/Carpov_Courses/{}\".format(first_folder))#получаем папки, вложенные в первую\n",
        "dates"
      ],
      "execution_count": 4,
      "outputs": [
        {
          "output_type": "execute_result",
          "data": {
            "text/plain": [
              "['2020-12-09',\n",
              " '2020-12-05',\n",
              " '2020-12-07',\n",
              " '2020-12-04',\n",
              " '2020-12-03',\n",
              " '2020-12-08',\n",
              " '2020-12-06']"
            ]
          },
          "metadata": {
            "tags": []
          },
          "execution_count": 4
        }
      ]
    },
    {
      "cell_type": "code",
      "metadata": {
        "id": "03H7xDJLdMOv"
      },
      "source": [
        "final_df = pd.DataFrame()#создаем пустой DF для первой итерации соединения таблиц\n",
        "for date in dates:\n",
        "  \n",
        "  names = os.listdir(\"/content/drive/My Drive/Data for Collab/Carpov_Courses/{}/{}\".format(first_folder, date))#получаем список папок, вложенных в папку с датой\n",
        "  \n",
        "  for name in names:\n",
        "    path = \"/content/drive/My Drive/Data for Collab/Carpov_Courses/{}/{}/{}\".format(first_folder, date, name)#путь до последней папки\n",
        "    \n",
        "    file_path = path+'/'+os.listdir(path)[0]#путь к файлу в послденей папке\n",
        "    \n",
        "    current_df = pd.read_csv(file_path, index_col=0)#читаем файл в последгней папке\n",
        "    current_df['name'] = name#добавляем колонку с именем\n",
        "    current_df['date'] = date#добавляем колонку с датой\n",
        "    \n",
        "    df = pd.concat([final_df, current_df],ignore_index=True)#сливаем два датафрейма, повторяем, пока не закончатся файлы\n",
        "    df.reset_index(drop=True, inplace=True)\n",
        "    final_df = df\n",
        "    "
      ],
      "execution_count": 88,
      "outputs": []
    },
    {
      "cell_type": "code",
      "metadata": {
        "colab": {
          "base_uri": "https://localhost:8080/"
        },
        "id": "8OUpbLO5ob4N",
        "outputId": "51ef662a-7cb8-4388-d83f-d02b93668f46"
      },
      "source": [
        "final_df.shape"
      ],
      "execution_count": 6,
      "outputs": [
        {
          "output_type": "execute_result",
          "data": {
            "text/plain": [
              "(161, 4)"
            ]
          },
          "metadata": {
            "tags": []
          },
          "execution_count": 6
        }
      ]
    },
    {
      "cell_type": "code",
      "metadata": {
        "colab": {
          "base_uri": "https://localhost:8080/",
          "height": 203
        },
        "id": "N806ToQNqKcU",
        "outputId": "a6e96a3e-851f-4f2c-c6f6-8f59f2536b9e"
      },
      "source": [
        "final_df.tail()"
      ],
      "execution_count": 7,
      "outputs": [
        {
          "output_type": "execute_result",
          "data": {
            "text/html": [
              "<div>\n",
              "<style scoped>\n",
              "    .dataframe tbody tr th:only-of-type {\n",
              "        vertical-align: middle;\n",
              "    }\n",
              "\n",
              "    .dataframe tbody tr th {\n",
              "        vertical-align: top;\n",
              "    }\n",
              "\n",
              "    .dataframe thead th {\n",
              "        text-align: right;\n",
              "    }\n",
              "</style>\n",
              "<table border=\"1\" class=\"dataframe\">\n",
              "  <thead>\n",
              "    <tr style=\"text-align: right;\">\n",
              "      <th></th>\n",
              "      <th>product_id</th>\n",
              "      <th>quantity</th>\n",
              "      <th>name</th>\n",
              "      <th>date</th>\n",
              "    </tr>\n",
              "  </thead>\n",
              "  <tbody>\n",
              "    <tr>\n",
              "      <th>156</th>\n",
              "      <td>50</td>\n",
              "      <td>5</td>\n",
              "      <td>Rostislav_Petrov</td>\n",
              "      <td>2020-12-08</td>\n",
              "    </tr>\n",
              "    <tr>\n",
              "      <th>157</th>\n",
              "      <td>56</td>\n",
              "      <td>4</td>\n",
              "      <td>Vasiliy_Fedorov</td>\n",
              "      <td>2020-12-06</td>\n",
              "    </tr>\n",
              "    <tr>\n",
              "      <th>158</th>\n",
              "      <td>97</td>\n",
              "      <td>3</td>\n",
              "      <td>Vasiliy_Fedorov</td>\n",
              "      <td>2020-12-06</td>\n",
              "    </tr>\n",
              "    <tr>\n",
              "      <th>159</th>\n",
              "      <td>79</td>\n",
              "      <td>3</td>\n",
              "      <td>Vasiliy_Fedorov</td>\n",
              "      <td>2020-12-06</td>\n",
              "    </tr>\n",
              "    <tr>\n",
              "      <th>160</th>\n",
              "      <td>29</td>\n",
              "      <td>5</td>\n",
              "      <td>Vasiliy_Fedorov</td>\n",
              "      <td>2020-12-06</td>\n",
              "    </tr>\n",
              "  </tbody>\n",
              "</table>\n",
              "</div>"
            ],
            "text/plain": [
              "     product_id  quantity              name        date\n",
              "156          50         5  Rostislav_Petrov  2020-12-08\n",
              "157          56         4   Vasiliy_Fedorov  2020-12-06\n",
              "158          97         3   Vasiliy_Fedorov  2020-12-06\n",
              "159          79         3   Vasiliy_Fedorov  2020-12-06\n",
              "160          29         5   Vasiliy_Fedorov  2020-12-06"
            ]
          },
          "metadata": {
            "tags": []
          },
          "execution_count": 7
        }
      ]
    },
    {
      "cell_type": "code",
      "metadata": {
        "id": "B1tFEjZQqy4L",
        "colab": {
          "base_uri": "https://localhost:8080/"
        },
        "outputId": "81dc7a13-4a53-49b5-d44c-9978a6289ed7"
      },
      "source": [
        "final_df['quantity'].sum()"
      ],
      "execution_count": 8,
      "outputs": [
        {
          "output_type": "execute_result",
          "data": {
            "text/plain": [
              "480"
            ]
          },
          "metadata": {
            "tags": []
          },
          "execution_count": 8
        }
      ]
    },
    {
      "cell_type": "markdown",
      "metadata": {
        "id": "juymVEqGD1os"
      },
      "source": [
        "Выясните, какой пользователь купил больше всего товаров. Если их несколько, то перечислите имена через запятую с пробелом и в алфавитном порядке"
      ]
    },
    {
      "cell_type": "code",
      "metadata": {
        "colab": {
          "base_uri": "https://localhost:8080/",
          "height": 696
        },
        "id": "72YUUShMrlvA",
        "outputId": "989e80a9-c90a-45a6-a549-94819699d50c"
      },
      "source": [
        "final_df.groupby('name', as_index=False) \\\n",
        "             .agg({'quantity':'sum'}) \\\n",
        "             .sort_values(by='quantity', ascending=False)"
      ],
      "execution_count": 9,
      "outputs": [
        {
          "output_type": "execute_result",
          "data": {
            "text/html": [
              "<div>\n",
              "<style scoped>\n",
              "    .dataframe tbody tr th:only-of-type {\n",
              "        vertical-align: middle;\n",
              "    }\n",
              "\n",
              "    .dataframe tbody tr th {\n",
              "        vertical-align: top;\n",
              "    }\n",
              "\n",
              "    .dataframe thead th {\n",
              "        text-align: right;\n",
              "    }\n",
              "</style>\n",
              "<table border=\"1\" class=\"dataframe\">\n",
              "  <thead>\n",
              "    <tr style=\"text-align: right;\">\n",
              "      <th></th>\n",
              "      <th>name</th>\n",
              "      <th>quantity</th>\n",
              "    </tr>\n",
              "  </thead>\n",
              "  <tbody>\n",
              "    <tr>\n",
              "      <th>3</th>\n",
              "      <td>Alexey_Smirnov</td>\n",
              "      <td>52</td>\n",
              "    </tr>\n",
              "    <tr>\n",
              "      <th>13</th>\n",
              "      <td>Petr_Smirnov</td>\n",
              "      <td>52</td>\n",
              "    </tr>\n",
              "    <tr>\n",
              "      <th>6</th>\n",
              "      <td>Anton_Smirnov</td>\n",
              "      <td>45</td>\n",
              "    </tr>\n",
              "    <tr>\n",
              "      <th>10</th>\n",
              "      <td>Petr_Fedorov</td>\n",
              "      <td>34</td>\n",
              "    </tr>\n",
              "    <tr>\n",
              "      <th>7</th>\n",
              "      <td>Kirill_Fedorov</td>\n",
              "      <td>28</td>\n",
              "    </tr>\n",
              "    <tr>\n",
              "      <th>16</th>\n",
              "      <td>Rostislav_Petrov</td>\n",
              "      <td>28</td>\n",
              "    </tr>\n",
              "    <tr>\n",
              "      <th>19</th>\n",
              "      <td>Vasiliy_Ivanov</td>\n",
              "      <td>27</td>\n",
              "    </tr>\n",
              "    <tr>\n",
              "      <th>0</th>\n",
              "      <td>Alexey_Fedorov</td>\n",
              "      <td>24</td>\n",
              "    </tr>\n",
              "    <tr>\n",
              "      <th>4</th>\n",
              "      <td>Anton_Ivanov</td>\n",
              "      <td>23</td>\n",
              "    </tr>\n",
              "    <tr>\n",
              "      <th>11</th>\n",
              "      <td>Petr_Ivanov</td>\n",
              "      <td>21</td>\n",
              "    </tr>\n",
              "    <tr>\n",
              "      <th>5</th>\n",
              "      <td>Anton_Petrov</td>\n",
              "      <td>18</td>\n",
              "    </tr>\n",
              "    <tr>\n",
              "      <th>9</th>\n",
              "      <td>Kirill_Smirnov</td>\n",
              "      <td>17</td>\n",
              "    </tr>\n",
              "    <tr>\n",
              "      <th>1</th>\n",
              "      <td>Alexey_Ivanov</td>\n",
              "      <td>17</td>\n",
              "    </tr>\n",
              "    <tr>\n",
              "      <th>17</th>\n",
              "      <td>Rostislav_Smirnov</td>\n",
              "      <td>17</td>\n",
              "    </tr>\n",
              "    <tr>\n",
              "      <th>14</th>\n",
              "      <td>Rostislav_Fedorov</td>\n",
              "      <td>16</td>\n",
              "    </tr>\n",
              "    <tr>\n",
              "      <th>18</th>\n",
              "      <td>Vasiliy_Fedorov</td>\n",
              "      <td>15</td>\n",
              "    </tr>\n",
              "    <tr>\n",
              "      <th>12</th>\n",
              "      <td>Petr_Petrov</td>\n",
              "      <td>14</td>\n",
              "    </tr>\n",
              "    <tr>\n",
              "      <th>8</th>\n",
              "      <td>Kirill_Petrov</td>\n",
              "      <td>9</td>\n",
              "    </tr>\n",
              "    <tr>\n",
              "      <th>15</th>\n",
              "      <td>Rostislav_Ivanov</td>\n",
              "      <td>9</td>\n",
              "    </tr>\n",
              "    <tr>\n",
              "      <th>2</th>\n",
              "      <td>Alexey_Petrov</td>\n",
              "      <td>7</td>\n",
              "    </tr>\n",
              "    <tr>\n",
              "      <th>20</th>\n",
              "      <td>Vasiliy_Petrov</td>\n",
              "      <td>7</td>\n",
              "    </tr>\n",
              "  </tbody>\n",
              "</table>\n",
              "</div>"
            ],
            "text/plain": [
              "                 name  quantity\n",
              "3      Alexey_Smirnov        52\n",
              "13       Petr_Smirnov        52\n",
              "6       Anton_Smirnov        45\n",
              "10       Petr_Fedorov        34\n",
              "7      Kirill_Fedorov        28\n",
              "16   Rostislav_Petrov        28\n",
              "19     Vasiliy_Ivanov        27\n",
              "0      Alexey_Fedorov        24\n",
              "4        Anton_Ivanov        23\n",
              "11        Petr_Ivanov        21\n",
              "5        Anton_Petrov        18\n",
              "9      Kirill_Smirnov        17\n",
              "1       Alexey_Ivanov        17\n",
              "17  Rostislav_Smirnov        17\n",
              "14  Rostislav_Fedorov        16\n",
              "18    Vasiliy_Fedorov        15\n",
              "12        Petr_Petrov        14\n",
              "8       Kirill_Petrov         9\n",
              "15   Rostislav_Ivanov         9\n",
              "2       Alexey_Petrov         7\n",
              "20     Vasiliy_Petrov         7"
            ]
          },
          "metadata": {
            "tags": []
          },
          "execution_count": 9
        }
      ]
    },
    {
      "cell_type": "markdown",
      "metadata": {
        "id": "Q8qvIlWMD2qR"
      },
      "source": [
        "Найдите топ-10 товаров по числу проданных единиц за всё время и постройте барплот (столбчатую диаграмму, sns.barplot), где:\n",
        "\n",
        "по оси x – идентификаторы товаров (product_id) \n",
        "по оси y – суммарное число их покупок (сколько товаров с таким product_id было продано)\n",
        "Для практики попробуйте изменить параметры графика: цвет (color), прозрачность (alpha), сортировку значений по оси х (order). \n",
        "\n",
        "В качестве ответа укажите, сколько было продано единиц товара с product_id равным 56."
      ]
    },
    {
      "cell_type": "code",
      "metadata": {
        "colab": {
          "base_uri": "https://localhost:8080/",
          "height": 417
        },
        "id": "i9m4RhELAOdx",
        "outputId": "a18a9138-4de5-46cd-e775-e6dbc1dfa719"
      },
      "source": [
        "final_df.groupby('product_id', as_index=False) \\\n",
        ".agg({'quantity':'sum'}) \\\n",
        ".sort_values(by='quantity', ascending=False)"
      ],
      "execution_count": 11,
      "outputs": [
        {
          "output_type": "execute_result",
          "data": {
            "text/html": [
              "<div>\n",
              "<style scoped>\n",
              "    .dataframe tbody tr th:only-of-type {\n",
              "        vertical-align: middle;\n",
              "    }\n",
              "\n",
              "    .dataframe tbody tr th {\n",
              "        vertical-align: top;\n",
              "    }\n",
              "\n",
              "    .dataframe thead th {\n",
              "        text-align: right;\n",
              "    }\n",
              "</style>\n",
              "<table border=\"1\" class=\"dataframe\">\n",
              "  <thead>\n",
              "    <tr style=\"text-align: right;\">\n",
              "      <th></th>\n",
              "      <th>product_id</th>\n",
              "      <th>quantity</th>\n",
              "    </tr>\n",
              "  </thead>\n",
              "  <tbody>\n",
              "    <tr>\n",
              "      <th>22</th>\n",
              "      <td>27</td>\n",
              "      <td>20</td>\n",
              "    </tr>\n",
              "    <tr>\n",
              "      <th>42</th>\n",
              "      <td>56</td>\n",
              "      <td>18</td>\n",
              "    </tr>\n",
              "    <tr>\n",
              "      <th>21</th>\n",
              "      <td>24</td>\n",
              "      <td>15</td>\n",
              "    </tr>\n",
              "    <tr>\n",
              "      <th>51</th>\n",
              "      <td>74</td>\n",
              "      <td>15</td>\n",
              "    </tr>\n",
              "    <tr>\n",
              "      <th>32</th>\n",
              "      <td>41</td>\n",
              "      <td>14</td>\n",
              "    </tr>\n",
              "    <tr>\n",
              "      <th>...</th>\n",
              "      <td>...</td>\n",
              "      <td>...</td>\n",
              "    </tr>\n",
              "    <tr>\n",
              "      <th>52</th>\n",
              "      <td>75</td>\n",
              "      <td>2</td>\n",
              "    </tr>\n",
              "    <tr>\n",
              "      <th>39</th>\n",
              "      <td>52</td>\n",
              "      <td>1</td>\n",
              "    </tr>\n",
              "    <tr>\n",
              "      <th>56</th>\n",
              "      <td>80</td>\n",
              "      <td>1</td>\n",
              "    </tr>\n",
              "    <tr>\n",
              "      <th>43</th>\n",
              "      <td>57</td>\n",
              "      <td>1</td>\n",
              "    </tr>\n",
              "    <tr>\n",
              "      <th>18</th>\n",
              "      <td>21</td>\n",
              "      <td>1</td>\n",
              "    </tr>\n",
              "  </tbody>\n",
              "</table>\n",
              "<p>71 rows × 2 columns</p>\n",
              "</div>"
            ],
            "text/plain": [
              "    product_id  quantity\n",
              "22          27        20\n",
              "42          56        18\n",
              "21          24        15\n",
              "51          74        15\n",
              "32          41        14\n",
              "..         ...       ...\n",
              "52          75         2\n",
              "39          52         1\n",
              "56          80         1\n",
              "43          57         1\n",
              "18          21         1\n",
              "\n",
              "[71 rows x 2 columns]"
            ]
          },
          "metadata": {
            "tags": []
          },
          "execution_count": 11
        }
      ]
    },
    {
      "cell_type": "code",
      "metadata": {
        "id": "AR-kqn2sqAbN",
        "colab": {
          "base_uri": "https://localhost:8080/",
          "height": 357
        },
        "outputId": "a36525e5-c26e-4a20-f6e4-86f9830b01f9"
      },
      "source": [
        "top_10 = final_df.groupby('product_id', as_index=False) \\\n",
        ".agg({'quantity':'sum'}) \\\n",
        ".sort_values(by='quantity', ascending=False).head(10)\n",
        "top_10"
      ],
      "execution_count": 13,
      "outputs": [
        {
          "output_type": "execute_result",
          "data": {
            "text/html": [
              "<div>\n",
              "<style scoped>\n",
              "    .dataframe tbody tr th:only-of-type {\n",
              "        vertical-align: middle;\n",
              "    }\n",
              "\n",
              "    .dataframe tbody tr th {\n",
              "        vertical-align: top;\n",
              "    }\n",
              "\n",
              "    .dataframe thead th {\n",
              "        text-align: right;\n",
              "    }\n",
              "</style>\n",
              "<table border=\"1\" class=\"dataframe\">\n",
              "  <thead>\n",
              "    <tr style=\"text-align: right;\">\n",
              "      <th></th>\n",
              "      <th>product_id</th>\n",
              "      <th>quantity</th>\n",
              "    </tr>\n",
              "  </thead>\n",
              "  <tbody>\n",
              "    <tr>\n",
              "      <th>22</th>\n",
              "      <td>27</td>\n",
              "      <td>20</td>\n",
              "    </tr>\n",
              "    <tr>\n",
              "      <th>42</th>\n",
              "      <td>56</td>\n",
              "      <td>18</td>\n",
              "    </tr>\n",
              "    <tr>\n",
              "      <th>21</th>\n",
              "      <td>24</td>\n",
              "      <td>15</td>\n",
              "    </tr>\n",
              "    <tr>\n",
              "      <th>51</th>\n",
              "      <td>74</td>\n",
              "      <td>15</td>\n",
              "    </tr>\n",
              "    <tr>\n",
              "      <th>32</th>\n",
              "      <td>41</td>\n",
              "      <td>14</td>\n",
              "    </tr>\n",
              "    <tr>\n",
              "      <th>27</th>\n",
              "      <td>34</td>\n",
              "      <td>13</td>\n",
              "    </tr>\n",
              "    <tr>\n",
              "      <th>66</th>\n",
              "      <td>94</td>\n",
              "      <td>13</td>\n",
              "    </tr>\n",
              "    <tr>\n",
              "      <th>46</th>\n",
              "      <td>66</td>\n",
              "      <td>13</td>\n",
              "    </tr>\n",
              "    <tr>\n",
              "      <th>65</th>\n",
              "      <td>92</td>\n",
              "      <td>12</td>\n",
              "    </tr>\n",
              "    <tr>\n",
              "      <th>38</th>\n",
              "      <td>50</td>\n",
              "      <td>12</td>\n",
              "    </tr>\n",
              "  </tbody>\n",
              "</table>\n",
              "</div>"
            ],
            "text/plain": [
              "    product_id  quantity\n",
              "22          27        20\n",
              "42          56        18\n",
              "21          24        15\n",
              "51          74        15\n",
              "32          41        14\n",
              "27          34        13\n",
              "66          94        13\n",
              "46          66        13\n",
              "65          92        12\n",
              "38          50        12"
            ]
          },
          "metadata": {
            "tags": []
          },
          "execution_count": 13
        }
      ]
    },
    {
      "cell_type": "code",
      "metadata": {
        "colab": {
          "base_uri": "https://localhost:8080/"
        },
        "id": "2hmSHhO3Ew-N",
        "outputId": "f3c2ba0d-16ae-4c89-da94-7b4935fc0118"
      },
      "source": [
        "top_10.query('product_id == 56')['quantity']"
      ],
      "execution_count": 23,
      "outputs": [
        {
          "output_type": "execute_result",
          "data": {
            "text/plain": [
              "42    18\n",
              "Name: quantity, dtype: int64"
            ]
          },
          "metadata": {
            "tags": []
          },
          "execution_count": 23
        }
      ]
    },
    {
      "cell_type": "code",
      "metadata": {
        "colab": {
          "base_uri": "https://localhost:8080/",
          "height": 280
        },
        "id": "QahXIX3HE75C",
        "outputId": "c1beb70a-3a4c-4234-aea1-2adb1f91a37d"
      },
      "source": [
        "_ = sns.barplot(x='product_id', y='quantity', data = top_10, color='green', alpha=0.5, order=top_10.sort_values('quantity').product_id)"
      ],
      "execution_count": 31,
      "outputs": [
        {
          "output_type": "display_data",
          "data": {
            "image/png": "[encoded data removed]",
            "text/plain": [
              "<Figure size 432x288 with 1 Axes>"
            ]
          },
          "metadata": {
            "tags": [],
            "needs_background": "light"
          }
        }
      ]
    },
    {
      "cell_type": "markdown",
      "metadata": {
        "id": "Fk9rx0qVH3NV"
      },
      "source": [
        "Посмотрим на продажи по дням! Для визуализации снова используйте барплот, только теперь по оси x будут дни, по которым у нас есть данные (date)."
      ]
    },
    {
      "cell_type": "code",
      "metadata": {
        "colab": {
          "base_uri": "https://localhost:8080/",
          "height": 265
        },
        "id": "aRybjMxqGCps",
        "outputId": "c2fabba4-0188-4cfa-ea97-ef767017bf0a"
      },
      "source": [
        "quantities_by_days = final_df.groupby('date', as_index=False) \\\n",
        ".agg({'quantity':'sum'}) \\\n",
        ".sort_values(by='quantity', ascending=False)\n",
        "quantities_by_days"
      ],
      "execution_count": 33,
      "outputs": [
        {
          "output_type": "execute_result",
          "data": {
            "text/html": [
              "<div>\n",
              "<style scoped>\n",
              "    .dataframe tbody tr th:only-of-type {\n",
              "        vertical-align: middle;\n",
              "    }\n",
              "\n",
              "    .dataframe tbody tr th {\n",
              "        vertical-align: top;\n",
              "    }\n",
              "\n",
              "    .dataframe thead th {\n",
              "        text-align: right;\n",
              "    }\n",
              "</style>\n",
              "<table border=\"1\" class=\"dataframe\">\n",
              "  <thead>\n",
              "    <tr style=\"text-align: right;\">\n",
              "      <th></th>\n",
              "      <th>date</th>\n",
              "      <th>quantity</th>\n",
              "    </tr>\n",
              "  </thead>\n",
              "  <tbody>\n",
              "    <tr>\n",
              "      <th>1</th>\n",
              "      <td>2020-12-04</td>\n",
              "      <td>113</td>\n",
              "    </tr>\n",
              "    <tr>\n",
              "      <th>4</th>\n",
              "      <td>2020-12-07</td>\n",
              "      <td>94</td>\n",
              "    </tr>\n",
              "    <tr>\n",
              "      <th>6</th>\n",
              "      <td>2020-12-09</td>\n",
              "      <td>69</td>\n",
              "    </tr>\n",
              "    <tr>\n",
              "      <th>5</th>\n",
              "      <td>2020-12-08</td>\n",
              "      <td>68</td>\n",
              "    </tr>\n",
              "    <tr>\n",
              "      <th>2</th>\n",
              "      <td>2020-12-05</td>\n",
              "      <td>61</td>\n",
              "    </tr>\n",
              "    <tr>\n",
              "      <th>0</th>\n",
              "      <td>2020-12-03</td>\n",
              "      <td>60</td>\n",
              "    </tr>\n",
              "    <tr>\n",
              "      <th>3</th>\n",
              "      <td>2020-12-06</td>\n",
              "      <td>15</td>\n",
              "    </tr>\n",
              "  </tbody>\n",
              "</table>\n",
              "</div>"
            ],
            "text/plain": [
              "         date  quantity\n",
              "1  2020-12-04       113\n",
              "4  2020-12-07        94\n",
              "6  2020-12-09        69\n",
              "5  2020-12-08        68\n",
              "2  2020-12-05        61\n",
              "0  2020-12-03        60\n",
              "3  2020-12-06        15"
            ]
          },
          "metadata": {
            "tags": []
          },
          "execution_count": 33
        }
      ]
    },
    {
      "cell_type": "code",
      "metadata": {
        "colab": {
          "base_uri": "https://localhost:8080/",
          "height": 317
        },
        "id": "gIp_wS3mIJyL",
        "outputId": "06444878-288d-4a16-a106-e48294109ae5"
      },
      "source": [
        "plot = sns.barplot(x='date', y='quantity', data = quantities_by_days, color='green', alpha=0.5, order=quantities_by_days \\\n",
        "                .sort_values('quantity').date)\n",
        "locs, labels = plt.xticks()\n",
        "_ = plt.setp(labels, rotation=45)"
      ],
      "execution_count": 41,
      "outputs": [
        {
          "output_type": "display_data",
          "data": {
            "image/png": "[encoded data removed]",
            "text/plain": [
              "<Figure size 432x288 with 1 Axes>"
            ]
          },
          "metadata": {
            "tags": [],
            "needs_background": "light"
          }
        }
      ]
    },
    {
      "cell_type": "code",
      "metadata": {
        "colab": {
          "base_uri": "https://localhost:8080/",
          "height": 317
        },
        "id": "QpBaybWWIdMu",
        "outputId": "e3761c17-a64f-4136-dd61-2b835b5562c8"
      },
      "source": [
        "plot = sns.barplot(x='date', y='quantity', data = quantities_by_days, color='green', alpha=0.5)\n",
        "locs, labels = plt.xticks()\n",
        "_ = plt.setp(labels, rotation=45)"
      ],
      "execution_count": 42,
      "outputs": [
        {
          "output_type": "display_data",
          "data": {
            "image/png": "[encoded data removed]",
            "text/plain": [
              "<Figure size 432x288 with 1 Axes>"
            ]
          },
          "metadata": {
            "tags": [],
            "needs_background": "light"
          }
        }
      ]
    },
    {
      "cell_type": "markdown",
      "metadata": {
        "id": "O_MeueXNKt0V"
      },
      "source": [
        "Сколько пользователей приобрели какой-либо товар повторно (более 1 раза)? Повтором будем считать покупку товара с одинаковым product_id, совершенную в разные дни. \n",
        "\n"
      ]
    },
    {
      "cell_type": "code",
      "metadata": {
        "id": "pLio5bVaSjdb"
      },
      "source": [
        "final_wo_quant = final_df.drop(['quantity'], axis=1)#выбросили столбец с количеством покупок"
      ],
      "execution_count": 89,
      "outputs": []
    },
    {
      "cell_type": "code",
      "metadata": {
        "id": "9q85FTA-S0G1"
      },
      "source": [
        "ff = final_wo_quant.drop_duplicates()#убрали строки, где совпадает дата, имя и product_id, т.е. избавились от одинаковых покупок в один день"
      ],
      "execution_count": 95,
      "outputs": []
    },
    {
      "cell_type": "code",
      "metadata": {
        "colab": {
          "base_uri": "https://localhost:8080/",
          "height": 110
        },
        "id": "61LrC9XsUEOA",
        "outputId": "18550d2c-82dc-45d2-8e35-eb32094e4261"
      },
      "source": [
        "ff.groupby(['name','product_id'], as_index=False).agg({'date':'count'}).query('date>1')#выбрали записи, в которых совпадает имя, product_id и разная дата"
      ],
      "execution_count": 102,
      "outputs": [
        {
          "output_type": "execute_result",
          "data": {
            "text/html": [
              "<div>\n",
              "<style scoped>\n",
              "    .dataframe tbody tr th:only-of-type {\n",
              "        vertical-align: middle;\n",
              "    }\n",
              "\n",
              "    .dataframe tbody tr th {\n",
              "        vertical-align: top;\n",
              "    }\n",
              "\n",
              "    .dataframe thead th {\n",
              "        text-align: right;\n",
              "    }\n",
              "</style>\n",
              "<table border=\"1\" class=\"dataframe\">\n",
              "  <thead>\n",
              "    <tr style=\"text-align: right;\">\n",
              "      <th></th>\n",
              "      <th>name</th>\n",
              "      <th>product_id</th>\n",
              "      <th>date</th>\n",
              "    </tr>\n",
              "  </thead>\n",
              "  <tbody>\n",
              "    <tr>\n",
              "      <th>37</th>\n",
              "      <td>Anton_Ivanov</td>\n",
              "      <td>15</td>\n",
              "      <td>2</td>\n",
              "    </tr>\n",
              "    <tr>\n",
              "      <th>92</th>\n",
              "      <td>Petr_Fedorov</td>\n",
              "      <td>94</td>\n",
              "      <td>2</td>\n",
              "    </tr>\n",
              "  </tbody>\n",
              "</table>\n",
              "</div>"
            ],
            "text/plain": [
              "            name  product_id  date\n",
              "37  Anton_Ivanov          15     2\n",
              "92  Petr_Fedorov          94     2"
            ]
          },
          "metadata": {
            "tags": []
          },
          "execution_count": 102
        }
      ]
    },
    {
      "cell_type": "code",
      "metadata": {
        "id": "o13bHY4YNGFe"
      },
      "source": [
        ""
      ],
      "execution_count": null,
      "outputs": []
    }
  ]
}