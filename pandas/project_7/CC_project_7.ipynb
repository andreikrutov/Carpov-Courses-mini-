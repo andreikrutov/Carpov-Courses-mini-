{
 "cells": [
  {
   "cell_type": "markdown",
   "metadata": {},
   "source": [
    "# Проект по уроку 7"
   ]
  },
  {
   "cell_type": "markdown",
   "metadata": {},
   "source": [
    "Для начала, давайте посмотрим на распределение посещений сайта по дням. Постройте график с распределением количества посещений от ботов и обычных пользователей сайта Яндекс.Метрика"
   ]
  },
  {
   "cell_type": "code",
   "execution_count": 6,
   "metadata": {},
   "outputs": [],
   "source": [
    "from io import BytesIO\n",
    "import requests\n",
    "import pandas as pd\n",
    "import numpy as np\n",
    "import seaborn as sns"
   ]
  },
  {
   "cell_type": "code",
   "execution_count": 4,
   "metadata": {},
   "outputs": [],
   "source": [
    "your_link = 'https://stepik.org/media/attachments/lesson/361618/step_1_lesson_7.csv'\n",
    "req = requests.get(your_link)\n",
    "data = req.content\n",
    "\n",
    "df = pd.read_csv(BytesIO(data))"
   ]
  },
  {
   "cell_type": "code",
   "execution_count": 5,
   "metadata": {},
   "outputs": [
    {
     "data": {
      "text/html": [
       "<div>\n",
       "<style scoped>\n",
       "    .dataframe tbody tr th:only-of-type {\n",
       "        vertical-align: middle;\n",
       "    }\n",
       "\n",
       "    .dataframe tbody tr th {\n",
       "        vertical-align: top;\n",
       "    }\n",
       "\n",
       "    .dataframe thead th {\n",
       "        text-align: right;\n",
       "    }\n",
       "</style>\n",
       "<table border=\"1\" class=\"dataframe\">\n",
       "  <thead>\n",
       "    <tr style=\"text-align: right;\">\n",
       "      <th></th>\n",
       "      <th>date</th>\n",
       "      <th>user_type</th>\n",
       "      <th>visits</th>\n",
       "    </tr>\n",
       "  </thead>\n",
       "  <tbody>\n",
       "    <tr>\n",
       "      <th>0</th>\n",
       "      <td>2020-06-15</td>\n",
       "      <td>People</td>\n",
       "      <td>417.0</td>\n",
       "    </tr>\n",
       "    <tr>\n",
       "      <th>1</th>\n",
       "      <td>2020-06-15</td>\n",
       "      <td>Robots</td>\n",
       "      <td>177.0</td>\n",
       "    </tr>\n",
       "    <tr>\n",
       "      <th>2</th>\n",
       "      <td>2020-06-16</td>\n",
       "      <td>People</td>\n",
       "      <td>472.0</td>\n",
       "    </tr>\n",
       "    <tr>\n",
       "      <th>3</th>\n",
       "      <td>2020-06-16</td>\n",
       "      <td>Robots</td>\n",
       "      <td>91.0</td>\n",
       "    </tr>\n",
       "    <tr>\n",
       "      <th>4</th>\n",
       "      <td>2020-06-17</td>\n",
       "      <td>People</td>\n",
       "      <td>475.0</td>\n",
       "    </tr>\n",
       "  </tbody>\n",
       "</table>\n",
       "</div>"
      ],
      "text/plain": [
       "         date user_type  visits\n",
       "0  2020-06-15    People   417.0\n",
       "1  2020-06-15    Robots   177.0\n",
       "2  2020-06-16    People   472.0\n",
       "3  2020-06-16    Robots    91.0\n",
       "4  2020-06-17    People   475.0"
      ]
     },
     "execution_count": 5,
     "metadata": {},
     "output_type": "execute_result"
    }
   ],
   "source": [
    "df.head()"
   ]
  },
  {
   "cell_type": "code",
   "execution_count": 8,
   "metadata": {},
   "outputs": [
    {
     "data": {
      "image/png": "[encoded data removed]",
      "text/plain": [
       "<Figure size 432x288 with 1 Axes>"
      ]
     },
     "metadata": {
      "needs_background": "light"
     },
     "output_type": "display_data"
    }
   ],
   "source": [
    "_ = sns.barplot(x=df.date, y=df.visits, hue=df.user_type)"
   ]
  },
  {
   "cell_type": "markdown",
   "metadata": {},
   "source": [
    "Определите процент посещений сайта Яндекс.Метрики с бразузера Google Chrome"
   ]
  },
  {
   "cell_type": "code",
   "execution_count": 9,
   "metadata": {},
   "outputs": [],
   "source": [
    "your_link = 'https://stepik.org/media/attachments/lesson/361618/step_2_lesson_7.csv'\n",
    "req = requests.get(your_link)\n",
    "data = req.content\n",
    "\n",
    "df = pd.read_csv(BytesIO(data))"
   ]
  },
  {
   "cell_type": "code",
   "execution_count": 24,
   "metadata": {},
   "outputs": [
    {
     "data": {
      "text/html": [
       "<div>\n",
       "<style scoped>\n",
       "    .dataframe tbody tr th:only-of-type {\n",
       "        vertical-align: middle;\n",
       "    }\n",
       "\n",
       "    .dataframe tbody tr th {\n",
       "        vertical-align: top;\n",
       "    }\n",
       "\n",
       "    .dataframe thead th {\n",
       "        text-align: right;\n",
       "    }\n",
       "</style>\n",
       "<table border=\"1\" class=\"dataframe\">\n",
       "  <thead>\n",
       "    <tr style=\"text-align: right;\">\n",
       "      <th></th>\n",
       "      <th>date</th>\n",
       "      <th>browser</th>\n",
       "      <th>visits</th>\n",
       "    </tr>\n",
       "  </thead>\n",
       "  <tbody>\n",
       "    <tr>\n",
       "      <th>0</th>\n",
       "      <td>2020-06-15</td>\n",
       "      <td>Google Chrome</td>\n",
       "      <td>354.0</td>\n",
       "    </tr>\n",
       "    <tr>\n",
       "      <th>1</th>\n",
       "      <td>2020-06-15</td>\n",
       "      <td>Firefox</td>\n",
       "      <td>58.0</td>\n",
       "    </tr>\n",
       "    <tr>\n",
       "      <th>2</th>\n",
       "      <td>2020-06-15</td>\n",
       "      <td>Yandex Browser</td>\n",
       "      <td>54.0</td>\n",
       "    </tr>\n",
       "    <tr>\n",
       "      <th>3</th>\n",
       "      <td>2020-06-15</td>\n",
       "      <td>Safari</td>\n",
       "      <td>41.0</td>\n",
       "    </tr>\n",
       "    <tr>\n",
       "      <th>4</th>\n",
       "      <td>2020-06-15</td>\n",
       "      <td>Chrome Mobile</td>\n",
       "      <td>31.0</td>\n",
       "    </tr>\n",
       "  </tbody>\n",
       "</table>\n",
       "</div>"
      ],
      "text/plain": [
       "         date         browser  visits\n",
       "0  2020-06-15   Google Chrome   354.0\n",
       "1  2020-06-15         Firefox    58.0\n",
       "2  2020-06-15  Yandex Browser    54.0\n",
       "3  2020-06-15          Safari    41.0\n",
       "4  2020-06-15   Chrome Mobile    31.0"
      ]
     },
     "execution_count": 24,
     "metadata": {},
     "output_type": "execute_result"
    }
   ],
   "source": [
    "df.head()"
   ]
  },
  {
   "cell_type": "code",
   "execution_count": 32,
   "metadata": {},
   "outputs": [
    {
     "data": {
      "text/plain": [
       "60.0"
      ]
     },
     "execution_count": 32,
     "metadata": {},
     "output_type": "execute_result"
    }
   ],
   "source": [
    "np.round(\n",
    "df.groupby('browser', as_index=False) \\\n",
    "    .agg({'visits':'sum'}) \\\n",
    "    .query('browser == \"Google Chrome\"')['visits'] \\\n",
    "    .values / \\\n",
    "df.groupby('browser', as_index=False) \\\n",
    "    .agg({'visits':'sum'})['visits'].sum() * 100, \n",
    "    0)[0]\n",
    "        "
   ]
  },
  {
   "cell_type": "markdown",
   "metadata": {},
   "source": [
    "Давайте выясним, с какого браузера приходит больше всего ботов. Посмотрите на данные и определите, у какого браузера самая большая доля посещений сайта ботами от общего числа посещений?"
   ]
  },
  {
   "cell_type": "code",
   "execution_count": 81,
   "metadata": {},
   "outputs": [],
   "source": [
    "your_link = 'https://stepik.org/media/attachments/lesson/361618/step_3_lesson_7.csv'\n",
    "req = requests.get(your_link)\n",
    "data = req.content\n",
    "\n",
    "df = pd.read_csv(BytesIO(data))"
   ]
  },
  {
   "cell_type": "code",
   "execution_count": 95,
   "metadata": {},
   "outputs": [
    {
     "data": {
      "text/html": [
       "<div>\n",
       "<style scoped>\n",
       "    .dataframe tbody tr th:only-of-type {\n",
       "        vertical-align: middle;\n",
       "    }\n",
       "\n",
       "    .dataframe tbody tr th {\n",
       "        vertical-align: top;\n",
       "    }\n",
       "\n",
       "    .dataframe thead th {\n",
       "        text-align: right;\n",
       "    }\n",
       "</style>\n",
       "<table border=\"1\" class=\"dataframe\">\n",
       "  <thead>\n",
       "    <tr style=\"text-align: right;\">\n",
       "      <th></th>\n",
       "      <th>browser</th>\n",
       "      <th>visits</th>\n",
       "    </tr>\n",
       "  </thead>\n",
       "  <tbody>\n",
       "    <tr>\n",
       "      <th>0</th>\n",
       "      <td>Android Browser</td>\n",
       "      <td>1.0</td>\n",
       "    </tr>\n",
       "    <tr>\n",
       "      <th>1</th>\n",
       "      <td>Chrome Mobile</td>\n",
       "      <td>31.0</td>\n",
       "    </tr>\n",
       "    <tr>\n",
       "      <th>2</th>\n",
       "      <td>Chromium</td>\n",
       "      <td>2.0</td>\n",
       "    </tr>\n",
       "    <tr>\n",
       "      <th>3</th>\n",
       "      <td>CocCoc</td>\n",
       "      <td>1.0</td>\n",
       "    </tr>\n",
       "    <tr>\n",
       "      <th>4</th>\n",
       "      <td>Edge</td>\n",
       "      <td>5.0</td>\n",
       "    </tr>\n",
       "    <tr>\n",
       "      <th>5</th>\n",
       "      <td>Firefox</td>\n",
       "      <td>58.0</td>\n",
       "    </tr>\n",
       "    <tr>\n",
       "      <th>6</th>\n",
       "      <td>Google Chrome</td>\n",
       "      <td>354.0</td>\n",
       "    </tr>\n",
       "    <tr>\n",
       "      <th>7</th>\n",
       "      <td>Mobile Safari</td>\n",
       "      <td>16.0</td>\n",
       "    </tr>\n",
       "    <tr>\n",
       "      <th>8</th>\n",
       "      <td>Opera</td>\n",
       "      <td>16.0</td>\n",
       "    </tr>\n",
       "    <tr>\n",
       "      <th>9</th>\n",
       "      <td>Safari</td>\n",
       "      <td>41.0</td>\n",
       "    </tr>\n",
       "    <tr>\n",
       "      <th>10</th>\n",
       "      <td>Samsung Internet</td>\n",
       "      <td>9.0</td>\n",
       "    </tr>\n",
       "    <tr>\n",
       "      <th>11</th>\n",
       "      <td>UCWEB</td>\n",
       "      <td>4.0</td>\n",
       "    </tr>\n",
       "    <tr>\n",
       "      <th>12</th>\n",
       "      <td>Vivaldi</td>\n",
       "      <td>1.0</td>\n",
       "    </tr>\n",
       "    <tr>\n",
       "      <th>13</th>\n",
       "      <td>Yandex Browser</td>\n",
       "      <td>54.0</td>\n",
       "    </tr>\n",
       "    <tr>\n",
       "      <th>14</th>\n",
       "      <td>Yandex: mobile app</td>\n",
       "      <td>1.0</td>\n",
       "    </tr>\n",
       "  </tbody>\n",
       "</table>\n",
       "</div>"
      ],
      "text/plain": [
       "               browser  visits\n",
       "0      Android Browser     1.0\n",
       "1        Chrome Mobile    31.0\n",
       "2             Chromium     2.0\n",
       "3               CocCoc     1.0\n",
       "4                 Edge     5.0\n",
       "5              Firefox    58.0\n",
       "6        Google Chrome   354.0\n",
       "7        Mobile Safari    16.0\n",
       "8                Opera    16.0\n",
       "9               Safari    41.0\n",
       "10    Samsung Internet     9.0\n",
       "11               UCWEB     4.0\n",
       "12             Vivaldi     1.0\n",
       "13      Yandex Browser    54.0\n",
       "14  Yandex: mobile app     1.0"
      ]
     },
     "execution_count": 95,
     "metadata": {},
     "output_type": "execute_result"
    }
   ],
   "source": [
    "df.groupby('browser', as_index=False).agg({'visits':'sum'})#считаем общее количество визитов по браузерам"
   ]
  },
  {
   "cell_type": "code",
   "execution_count": 96,
   "metadata": {},
   "outputs": [],
   "source": [
    "df_new = df.query('user_type == \"Robots\"')# выбираем только роботов"
   ]
  },
  {
   "cell_type": "code",
   "execution_count": 97,
   "metadata": {},
   "outputs": [],
   "source": [
    "df_new = df_new.rename(columns={'visits':'robot_visits'})"
   ]
  },
  {
   "cell_type": "code",
   "execution_count": 99,
   "metadata": {},
   "outputs": [],
   "source": [
    "merged_df = df.groupby('browser', as_index=False) \\\n",
    "    .agg({'visits':'sum'}) \\\n",
    "    .merge(df_new, on='browser')#объединяем df по браузеру"
   ]
  },
  {
   "cell_type": "code",
   "execution_count": 102,
   "metadata": {},
   "outputs": [
    {
     "data": {
      "text/html": [
       "<div>\n",
       "<style scoped>\n",
       "    .dataframe tbody tr th:only-of-type {\n",
       "        vertical-align: middle;\n",
       "    }\n",
       "\n",
       "    .dataframe tbody tr th {\n",
       "        vertical-align: top;\n",
       "    }\n",
       "\n",
       "    .dataframe thead th {\n",
       "        text-align: right;\n",
       "    }\n",
       "</style>\n",
       "<table border=\"1\" class=\"dataframe\">\n",
       "  <thead>\n",
       "    <tr style=\"text-align: right;\">\n",
       "      <th></th>\n",
       "      <th>browser</th>\n",
       "      <th>visits</th>\n",
       "      <th>date</th>\n",
       "      <th>user_type</th>\n",
       "      <th>robot_visits</th>\n",
       "      <th>part</th>\n",
       "    </tr>\n",
       "  </thead>\n",
       "  <tbody>\n",
       "    <tr>\n",
       "      <th>4</th>\n",
       "      <td>Mobile Safari</td>\n",
       "      <td>16.0</td>\n",
       "      <td>2020-06-15</td>\n",
       "      <td>Robots</td>\n",
       "      <td>1.0</td>\n",
       "      <td>0.062500</td>\n",
       "    </tr>\n",
       "    <tr>\n",
       "      <th>7</th>\n",
       "      <td>Samsung Internet</td>\n",
       "      <td>9.0</td>\n",
       "      <td>2020-06-15</td>\n",
       "      <td>Robots</td>\n",
       "      <td>1.0</td>\n",
       "      <td>0.111111</td>\n",
       "    </tr>\n",
       "    <tr>\n",
       "      <th>9</th>\n",
       "      <td>Yandex Browser</td>\n",
       "      <td>54.0</td>\n",
       "      <td>2020-06-15</td>\n",
       "      <td>Robots</td>\n",
       "      <td>7.0</td>\n",
       "      <td>0.129630</td>\n",
       "    </tr>\n",
       "    <tr>\n",
       "      <th>1</th>\n",
       "      <td>Edge</td>\n",
       "      <td>5.0</td>\n",
       "      <td>2020-06-15</td>\n",
       "      <td>Robots</td>\n",
       "      <td>1.0</td>\n",
       "      <td>0.200000</td>\n",
       "    </tr>\n",
       "    <tr>\n",
       "      <th>3</th>\n",
       "      <td>Google Chrome</td>\n",
       "      <td>354.0</td>\n",
       "      <td>2020-06-15</td>\n",
       "      <td>Robots</td>\n",
       "      <td>104.0</td>\n",
       "      <td>0.293785</td>\n",
       "    </tr>\n",
       "    <tr>\n",
       "      <th>5</th>\n",
       "      <td>Opera</td>\n",
       "      <td>16.0</td>\n",
       "      <td>2020-06-15</td>\n",
       "      <td>Robots</td>\n",
       "      <td>5.0</td>\n",
       "      <td>0.312500</td>\n",
       "    </tr>\n",
       "    <tr>\n",
       "      <th>0</th>\n",
       "      <td>Chromium</td>\n",
       "      <td>2.0</td>\n",
       "      <td>2020-06-15</td>\n",
       "      <td>Robots</td>\n",
       "      <td>1.0</td>\n",
       "      <td>0.500000</td>\n",
       "    </tr>\n",
       "    <tr>\n",
       "      <th>2</th>\n",
       "      <td>Firefox</td>\n",
       "      <td>58.0</td>\n",
       "      <td>2020-06-15</td>\n",
       "      <td>Robots</td>\n",
       "      <td>31.0</td>\n",
       "      <td>0.534483</td>\n",
       "    </tr>\n",
       "    <tr>\n",
       "      <th>6</th>\n",
       "      <td>Safari</td>\n",
       "      <td>41.0</td>\n",
       "      <td>2020-06-15</td>\n",
       "      <td>Robots</td>\n",
       "      <td>22.0</td>\n",
       "      <td>0.536585</td>\n",
       "    </tr>\n",
       "    <tr>\n",
       "      <th>8</th>\n",
       "      <td>UCWEB</td>\n",
       "      <td>4.0</td>\n",
       "      <td>2020-06-15</td>\n",
       "      <td>Robots</td>\n",
       "      <td>4.0</td>\n",
       "      <td>1.000000</td>\n",
       "    </tr>\n",
       "  </tbody>\n",
       "</table>\n",
       "</div>"
      ],
      "text/plain": [
       "            browser  visits        date user_type  robot_visits      part\n",
       "4     Mobile Safari    16.0  2020-06-15    Robots           1.0  0.062500\n",
       "7  Samsung Internet     9.0  2020-06-15    Robots           1.0  0.111111\n",
       "9    Yandex Browser    54.0  2020-06-15    Robots           7.0  0.129630\n",
       "1              Edge     5.0  2020-06-15    Robots           1.0  0.200000\n",
       "3     Google Chrome   354.0  2020-06-15    Robots         104.0  0.293785\n",
       "5             Opera    16.0  2020-06-15    Robots           5.0  0.312500\n",
       "0          Chromium     2.0  2020-06-15    Robots           1.0  0.500000\n",
       "2           Firefox    58.0  2020-06-15    Robots          31.0  0.534483\n",
       "6            Safari    41.0  2020-06-15    Robots          22.0  0.536585\n",
       "8             UCWEB     4.0  2020-06-15    Robots           4.0  1.000000"
      ]
     },
     "execution_count": 102,
     "metadata": {},
     "output_type": "execute_result"
    }
   ],
   "source": [
    "merged_df['part'] = merged_df['robot_visits'] / merged_df['visits']\n",
    "merged_df.sort_values(by='part')"
   ]
  },
  {
   "cell_type": "markdown",
   "metadata": {},
   "source": [
    "Выгрузите данные, содержащие информацию о дне, типе пользователя, браузере. Создайте колонку с метрикой доли заходов на сайт для каждого из этих разрезов.\n",
    "\n",
    "В ответе укажите процент открытий сайта настоящими пользователями Safari (не ботами) с точностью до 1 знака после точки.\n",
    "\n",
    "Hint: обратите внимание, здесь вам нужно найти долю заходов конкретных типов пользователей с конкретного браузера от вообще всех-всех заходов на сайт за этот день."
   ]
  },
  {
   "cell_type": "code",
   "execution_count": 103,
   "metadata": {},
   "outputs": [],
   "source": [
    "your_link = 'https://stepik.org/media/attachments/lesson/361618/step_4_lesson_7.csv'\n",
    "req = requests.get(your_link)\n",
    "data = req.content\n",
    "\n",
    "df = pd.read_csv(BytesIO(data))"
   ]
  },
  {
   "cell_type": "code",
   "execution_count": 104,
   "metadata": {},
   "outputs": [
    {
     "data": {
      "text/html": [
       "<div>\n",
       "<style scoped>\n",
       "    .dataframe tbody tr th:only-of-type {\n",
       "        vertical-align: middle;\n",
       "    }\n",
       "\n",
       "    .dataframe tbody tr th {\n",
       "        vertical-align: top;\n",
       "    }\n",
       "\n",
       "    .dataframe thead th {\n",
       "        text-align: right;\n",
       "    }\n",
       "</style>\n",
       "<table border=\"1\" class=\"dataframe\">\n",
       "  <thead>\n",
       "    <tr style=\"text-align: right;\">\n",
       "      <th></th>\n",
       "      <th>date</th>\n",
       "      <th>browser</th>\n",
       "      <th>user_type</th>\n",
       "      <th>visits</th>\n",
       "    </tr>\n",
       "  </thead>\n",
       "  <tbody>\n",
       "    <tr>\n",
       "      <th>0</th>\n",
       "      <td>2020-06-15</td>\n",
       "      <td>Google Chrome</td>\n",
       "      <td>People</td>\n",
       "      <td>250.0</td>\n",
       "    </tr>\n",
       "    <tr>\n",
       "      <th>1</th>\n",
       "      <td>2020-06-15</td>\n",
       "      <td>Google Chrome</td>\n",
       "      <td>Robots</td>\n",
       "      <td>104.0</td>\n",
       "    </tr>\n",
       "    <tr>\n",
       "      <th>2</th>\n",
       "      <td>2020-06-15</td>\n",
       "      <td>Yandex Browser</td>\n",
       "      <td>People</td>\n",
       "      <td>47.0</td>\n",
       "    </tr>\n",
       "    <tr>\n",
       "      <th>3</th>\n",
       "      <td>2020-06-15</td>\n",
       "      <td>Firefox</td>\n",
       "      <td>Robots</td>\n",
       "      <td>31.0</td>\n",
       "    </tr>\n",
       "    <tr>\n",
       "      <th>4</th>\n",
       "      <td>2020-06-15</td>\n",
       "      <td>Chrome Mobile</td>\n",
       "      <td>People</td>\n",
       "      <td>31.0</td>\n",
       "    </tr>\n",
       "  </tbody>\n",
       "</table>\n",
       "</div>"
      ],
      "text/plain": [
       "         date         browser user_type  visits\n",
       "0  2020-06-15   Google Chrome    People   250.0\n",
       "1  2020-06-15   Google Chrome    Robots   104.0\n",
       "2  2020-06-15  Yandex Browser    People    47.0\n",
       "3  2020-06-15         Firefox    Robots    31.0\n",
       "4  2020-06-15   Chrome Mobile    People    31.0"
      ]
     },
     "execution_count": 104,
     "metadata": {},
     "output_type": "execute_result"
    }
   ],
   "source": [
    "df.head()"
   ]
  },
  {
   "cell_type": "code",
   "execution_count": 108,
   "metadata": {},
   "outputs": [
    {
     "data": {
      "text/plain": [
       "594.0"
      ]
     },
     "execution_count": 108,
     "metadata": {},
     "output_type": "execute_result"
    }
   ],
   "source": [
    "df['visits'].sum()"
   ]
  },
  {
   "cell_type": "code",
   "execution_count": 127,
   "metadata": {},
   "outputs": [],
   "source": [
    "grouped_df = df.groupby(['browser', 'user_type', 'date'], as_index=False).agg({'visits':'sum'})"
   ]
  },
  {
   "cell_type": "code",
   "execution_count": 128,
   "metadata": {},
   "outputs": [],
   "source": [
    "grouped_df['part'] = grouped_df['visits'] / df['visits'].sum()"
   ]
  },
  {
   "cell_type": "code",
   "execution_count": 129,
   "metadata": {},
   "outputs": [
    {
     "data": {
      "text/html": [
       "<div>\n",
       "<style scoped>\n",
       "    .dataframe tbody tr th:only-of-type {\n",
       "        vertical-align: middle;\n",
       "    }\n",
       "\n",
       "    .dataframe tbody tr th {\n",
       "        vertical-align: top;\n",
       "    }\n",
       "\n",
       "    .dataframe thead th {\n",
       "        text-align: right;\n",
       "    }\n",
       "</style>\n",
       "<table border=\"1\" class=\"dataframe\">\n",
       "  <thead>\n",
       "    <tr style=\"text-align: right;\">\n",
       "      <th></th>\n",
       "      <th>browser</th>\n",
       "      <th>user_type</th>\n",
       "      <th>date</th>\n",
       "      <th>visits</th>\n",
       "      <th>part</th>\n",
       "    </tr>\n",
       "  </thead>\n",
       "  <tbody>\n",
       "    <tr>\n",
       "      <th>0</th>\n",
       "      <td>Android Browser</td>\n",
       "      <td>People</td>\n",
       "      <td>2020-06-15</td>\n",
       "      <td>1.0</td>\n",
       "      <td>0.001684</td>\n",
       "    </tr>\n",
       "    <tr>\n",
       "      <th>1</th>\n",
       "      <td>Chrome Mobile</td>\n",
       "      <td>People</td>\n",
       "      <td>2020-06-15</td>\n",
       "      <td>31.0</td>\n",
       "      <td>0.052189</td>\n",
       "    </tr>\n",
       "    <tr>\n",
       "      <th>2</th>\n",
       "      <td>Chromium</td>\n",
       "      <td>People</td>\n",
       "      <td>2020-06-15</td>\n",
       "      <td>1.0</td>\n",
       "      <td>0.001684</td>\n",
       "    </tr>\n",
       "    <tr>\n",
       "      <th>3</th>\n",
       "      <td>Chromium</td>\n",
       "      <td>Robots</td>\n",
       "      <td>2020-06-15</td>\n",
       "      <td>1.0</td>\n",
       "      <td>0.001684</td>\n",
       "    </tr>\n",
       "    <tr>\n",
       "      <th>4</th>\n",
       "      <td>CocCoc</td>\n",
       "      <td>People</td>\n",
       "      <td>2020-06-15</td>\n",
       "      <td>1.0</td>\n",
       "      <td>0.001684</td>\n",
       "    </tr>\n",
       "    <tr>\n",
       "      <th>5</th>\n",
       "      <td>Edge</td>\n",
       "      <td>People</td>\n",
       "      <td>2020-06-15</td>\n",
       "      <td>4.0</td>\n",
       "      <td>0.006734</td>\n",
       "    </tr>\n",
       "    <tr>\n",
       "      <th>6</th>\n",
       "      <td>Edge</td>\n",
       "      <td>Robots</td>\n",
       "      <td>2020-06-15</td>\n",
       "      <td>1.0</td>\n",
       "      <td>0.001684</td>\n",
       "    </tr>\n",
       "    <tr>\n",
       "      <th>7</th>\n",
       "      <td>Firefox</td>\n",
       "      <td>People</td>\n",
       "      <td>2020-06-15</td>\n",
       "      <td>27.0</td>\n",
       "      <td>0.045455</td>\n",
       "    </tr>\n",
       "    <tr>\n",
       "      <th>8</th>\n",
       "      <td>Firefox</td>\n",
       "      <td>Robots</td>\n",
       "      <td>2020-06-15</td>\n",
       "      <td>31.0</td>\n",
       "      <td>0.052189</td>\n",
       "    </tr>\n",
       "    <tr>\n",
       "      <th>9</th>\n",
       "      <td>Google Chrome</td>\n",
       "      <td>People</td>\n",
       "      <td>2020-06-15</td>\n",
       "      <td>250.0</td>\n",
       "      <td>0.420875</td>\n",
       "    </tr>\n",
       "    <tr>\n",
       "      <th>10</th>\n",
       "      <td>Google Chrome</td>\n",
       "      <td>Robots</td>\n",
       "      <td>2020-06-15</td>\n",
       "      <td>104.0</td>\n",
       "      <td>0.175084</td>\n",
       "    </tr>\n",
       "    <tr>\n",
       "      <th>11</th>\n",
       "      <td>Mobile Safari</td>\n",
       "      <td>People</td>\n",
       "      <td>2020-06-15</td>\n",
       "      <td>15.0</td>\n",
       "      <td>0.025253</td>\n",
       "    </tr>\n",
       "    <tr>\n",
       "      <th>12</th>\n",
       "      <td>Mobile Safari</td>\n",
       "      <td>Robots</td>\n",
       "      <td>2020-06-15</td>\n",
       "      <td>1.0</td>\n",
       "      <td>0.001684</td>\n",
       "    </tr>\n",
       "    <tr>\n",
       "      <th>13</th>\n",
       "      <td>Opera</td>\n",
       "      <td>People</td>\n",
       "      <td>2020-06-15</td>\n",
       "      <td>11.0</td>\n",
       "      <td>0.018519</td>\n",
       "    </tr>\n",
       "    <tr>\n",
       "      <th>14</th>\n",
       "      <td>Opera</td>\n",
       "      <td>Robots</td>\n",
       "      <td>2020-06-15</td>\n",
       "      <td>5.0</td>\n",
       "      <td>0.008418</td>\n",
       "    </tr>\n",
       "    <tr>\n",
       "      <th>15</th>\n",
       "      <td>Safari</td>\n",
       "      <td>People</td>\n",
       "      <td>2020-06-15</td>\n",
       "      <td>19.0</td>\n",
       "      <td>0.031987</td>\n",
       "    </tr>\n",
       "    <tr>\n",
       "      <th>16</th>\n",
       "      <td>Safari</td>\n",
       "      <td>Robots</td>\n",
       "      <td>2020-06-15</td>\n",
       "      <td>22.0</td>\n",
       "      <td>0.037037</td>\n",
       "    </tr>\n",
       "    <tr>\n",
       "      <th>17</th>\n",
       "      <td>Samsung Internet</td>\n",
       "      <td>People</td>\n",
       "      <td>2020-06-15</td>\n",
       "      <td>8.0</td>\n",
       "      <td>0.013468</td>\n",
       "    </tr>\n",
       "    <tr>\n",
       "      <th>18</th>\n",
       "      <td>Samsung Internet</td>\n",
       "      <td>Robots</td>\n",
       "      <td>2020-06-15</td>\n",
       "      <td>1.0</td>\n",
       "      <td>0.001684</td>\n",
       "    </tr>\n",
       "    <tr>\n",
       "      <th>19</th>\n",
       "      <td>UCWEB</td>\n",
       "      <td>Robots</td>\n",
       "      <td>2020-06-15</td>\n",
       "      <td>4.0</td>\n",
       "      <td>0.006734</td>\n",
       "    </tr>\n",
       "    <tr>\n",
       "      <th>20</th>\n",
       "      <td>Vivaldi</td>\n",
       "      <td>People</td>\n",
       "      <td>2020-06-15</td>\n",
       "      <td>1.0</td>\n",
       "      <td>0.001684</td>\n",
       "    </tr>\n",
       "    <tr>\n",
       "      <th>21</th>\n",
       "      <td>Yandex Browser</td>\n",
       "      <td>People</td>\n",
       "      <td>2020-06-15</td>\n",
       "      <td>47.0</td>\n",
       "      <td>0.079125</td>\n",
       "    </tr>\n",
       "    <tr>\n",
       "      <th>22</th>\n",
       "      <td>Yandex Browser</td>\n",
       "      <td>Robots</td>\n",
       "      <td>2020-06-15</td>\n",
       "      <td>7.0</td>\n",
       "      <td>0.011785</td>\n",
       "    </tr>\n",
       "    <tr>\n",
       "      <th>23</th>\n",
       "      <td>Yandex: mobile app</td>\n",
       "      <td>People</td>\n",
       "      <td>2020-06-15</td>\n",
       "      <td>1.0</td>\n",
       "      <td>0.001684</td>\n",
       "    </tr>\n",
       "  </tbody>\n",
       "</table>\n",
       "</div>"
      ],
      "text/plain": [
       "               browser user_type        date  visits      part\n",
       "0      Android Browser    People  2020-06-15     1.0  0.001684\n",
       "1        Chrome Mobile    People  2020-06-15    31.0  0.052189\n",
       "2             Chromium    People  2020-06-15     1.0  0.001684\n",
       "3             Chromium    Robots  2020-06-15     1.0  0.001684\n",
       "4               CocCoc    People  2020-06-15     1.0  0.001684\n",
       "5                 Edge    People  2020-06-15     4.0  0.006734\n",
       "6                 Edge    Robots  2020-06-15     1.0  0.001684\n",
       "7              Firefox    People  2020-06-15    27.0  0.045455\n",
       "8              Firefox    Robots  2020-06-15    31.0  0.052189\n",
       "9        Google Chrome    People  2020-06-15   250.0  0.420875\n",
       "10       Google Chrome    Robots  2020-06-15   104.0  0.175084\n",
       "11       Mobile Safari    People  2020-06-15    15.0  0.025253\n",
       "12       Mobile Safari    Robots  2020-06-15     1.0  0.001684\n",
       "13               Opera    People  2020-06-15    11.0  0.018519\n",
       "14               Opera    Robots  2020-06-15     5.0  0.008418\n",
       "15              Safari    People  2020-06-15    19.0  0.031987\n",
       "16              Safari    Robots  2020-06-15    22.0  0.037037\n",
       "17    Samsung Internet    People  2020-06-15     8.0  0.013468\n",
       "18    Samsung Internet    Robots  2020-06-15     1.0  0.001684\n",
       "19               UCWEB    Robots  2020-06-15     4.0  0.006734\n",
       "20             Vivaldi    People  2020-06-15     1.0  0.001684\n",
       "21      Yandex Browser    People  2020-06-15    47.0  0.079125\n",
       "22      Yandex Browser    Robots  2020-06-15     7.0  0.011785\n",
       "23  Yandex: mobile app    People  2020-06-15     1.0  0.001684"
      ]
     },
     "execution_count": 129,
     "metadata": {},
     "output_type": "execute_result"
    }
   ],
   "source": [
    "grouped_df"
   ]
  },
  {
   "cell_type": "code",
   "execution_count": 130,
   "metadata": {},
   "outputs": [
    {
     "data": {
      "text/plain": [
       "array([3.2])"
      ]
     },
     "execution_count": 130,
     "metadata": {},
     "output_type": "execute_result"
    }
   ],
   "source": [
    "np.round(grouped_df.query('user_type == \"People\" & browser == \"Safari\"')['part'].values *100 ,1)"
   ]
  },
  {
   "cell_type": "markdown",
   "metadata": {},
   "source": [
    "Другой аналитик уже агрегировал часть данных из метрики. Вам нужно объединить усилия, чтобы получить финальный отчет. Прочитайте дополнительные данные из Google SpreadSheet, объедините вашу таблицу из предыдущего шага с таблицей аналитика и посчитайте количество визитов на человека (отношение visits к users) в разрезе по браузеру и значениям Robots/People.\n",
    "\n",
    "В ответе укажите, сколько визитов на уникального пользователя совершается ботами с браузера Google Chrome (округлите до целого)"
   ]
  },
  {
   "cell_type": "code",
   "execution_count": 131,
   "metadata": {},
   "outputs": [],
   "source": [
    "your_link = 'https://stepik.org/media/attachments/lesson/361618/step_4_lesson_7.csv'\n",
    "req = requests.get(your_link)\n",
    "data = req.content\n",
    "\n",
    "my_df = pd.read_csv(BytesIO(data))"
   ]
  },
  {
   "cell_type": "code",
   "execution_count": 141,
   "metadata": {},
   "outputs": [
    {
     "data": {
      "text/plain": [
       "(24, 4)"
      ]
     },
     "execution_count": 141,
     "metadata": {},
     "output_type": "execute_result"
    }
   ],
   "source": [
    "my_df.shape"
   ]
  },
  {
   "cell_type": "code",
   "execution_count": 145,
   "metadata": {},
   "outputs": [
    {
     "data": {
      "text/html": [
       "<div>\n",
       "<style scoped>\n",
       "    .dataframe tbody tr th:only-of-type {\n",
       "        vertical-align: middle;\n",
       "    }\n",
       "\n",
       "    .dataframe tbody tr th {\n",
       "        vertical-align: top;\n",
       "    }\n",
       "\n",
       "    .dataframe thead th {\n",
       "        text-align: right;\n",
       "    }\n",
       "</style>\n",
       "<table border=\"1\" class=\"dataframe\">\n",
       "  <thead>\n",
       "    <tr style=\"text-align: right;\">\n",
       "      <th></th>\n",
       "      <th>date</th>\n",
       "      <th>browser</th>\n",
       "      <th>user_type</th>\n",
       "      <th>visits</th>\n",
       "    </tr>\n",
       "  </thead>\n",
       "  <tbody>\n",
       "    <tr>\n",
       "      <th>0</th>\n",
       "      <td>2020-06-15</td>\n",
       "      <td>Google Chrome</td>\n",
       "      <td>People</td>\n",
       "      <td>250.0</td>\n",
       "    </tr>\n",
       "    <tr>\n",
       "      <th>1</th>\n",
       "      <td>2020-06-15</td>\n",
       "      <td>Google Chrome</td>\n",
       "      <td>Robots</td>\n",
       "      <td>104.0</td>\n",
       "    </tr>\n",
       "    <tr>\n",
       "      <th>2</th>\n",
       "      <td>2020-06-15</td>\n",
       "      <td>Yandex Browser</td>\n",
       "      <td>People</td>\n",
       "      <td>47.0</td>\n",
       "    </tr>\n",
       "    <tr>\n",
       "      <th>3</th>\n",
       "      <td>2020-06-15</td>\n",
       "      <td>Firefox</td>\n",
       "      <td>Robots</td>\n",
       "      <td>31.0</td>\n",
       "    </tr>\n",
       "    <tr>\n",
       "      <th>4</th>\n",
       "      <td>2020-06-15</td>\n",
       "      <td>Chrome Mobile</td>\n",
       "      <td>People</td>\n",
       "      <td>31.0</td>\n",
       "    </tr>\n",
       "  </tbody>\n",
       "</table>\n",
       "</div>"
      ],
      "text/plain": [
       "         date         browser user_type  visits\n",
       "0  2020-06-15   Google Chrome    People   250.0\n",
       "1  2020-06-15   Google Chrome    Robots   104.0\n",
       "2  2020-06-15  Yandex Browser    People    47.0\n",
       "3  2020-06-15         Firefox    Robots    31.0\n",
       "4  2020-06-15   Chrome Mobile    People    31.0"
      ]
     },
     "execution_count": 145,
     "metadata": {},
     "output_type": "execute_result"
    }
   ],
   "source": [
    "my_df.head()"
   ]
  },
  {
   "cell_type": "code",
   "execution_count": 142,
   "metadata": {},
   "outputs": [],
   "source": [
    "from io import BytesIO\n",
    "import requests\n",
    "r = requests.get('https://docs.google.com/spreadsheets/d/e/2PACX-1vQWMsvBTVio9C7IOOxfFO9C15BRHyME-_ENHqBodDOjuiHwk9fCuF5hUVmDs497PZOqPYK3exdSikOK/pub?gid=1006633900&single=true&output=csv')\n",
    "data = r.content\n",
    "\n",
    "df = pd.read_csv(BytesIO(data))"
   ]
  },
  {
   "cell_type": "code",
   "execution_count": 143,
   "metadata": {},
   "outputs": [
    {
     "data": {
      "text/plain": [
       "(24, 4)"
      ]
     },
     "execution_count": 143,
     "metadata": {},
     "output_type": "execute_result"
    }
   ],
   "source": [
    "df.shape"
   ]
  },
  {
   "cell_type": "code",
   "execution_count": 135,
   "metadata": {},
   "outputs": [
    {
     "data": {
      "text/html": [
       "<div>\n",
       "<style scoped>\n",
       "    .dataframe tbody tr th:only-of-type {\n",
       "        vertical-align: middle;\n",
       "    }\n",
       "\n",
       "    .dataframe tbody tr th {\n",
       "        vertical-align: top;\n",
       "    }\n",
       "\n",
       "    .dataframe thead th {\n",
       "        text-align: right;\n",
       "    }\n",
       "</style>\n",
       "<table border=\"1\" class=\"dataframe\">\n",
       "  <thead>\n",
       "    <tr style=\"text-align: right;\">\n",
       "      <th></th>\n",
       "      <th>date</th>\n",
       "      <th>browser</th>\n",
       "      <th>user_type</th>\n",
       "      <th>users</th>\n",
       "    </tr>\n",
       "  </thead>\n",
       "  <tbody>\n",
       "    <tr>\n",
       "      <th>0</th>\n",
       "      <td>2020-06-15</td>\n",
       "      <td>Google Chrome</td>\n",
       "      <td>People</td>\n",
       "      <td>240.0</td>\n",
       "    </tr>\n",
       "    <tr>\n",
       "      <th>1</th>\n",
       "      <td>2020-06-15</td>\n",
       "      <td>Google Chrome</td>\n",
       "      <td>Robots</td>\n",
       "      <td>104.0</td>\n",
       "    </tr>\n",
       "    <tr>\n",
       "      <th>2</th>\n",
       "      <td>2020-06-15</td>\n",
       "      <td>Yandex Browser</td>\n",
       "      <td>People</td>\n",
       "      <td>44.0</td>\n",
       "    </tr>\n",
       "    <tr>\n",
       "      <th>3</th>\n",
       "      <td>2020-06-15</td>\n",
       "      <td>Chrome Mobile</td>\n",
       "      <td>People</td>\n",
       "      <td>30.0</td>\n",
       "    </tr>\n",
       "    <tr>\n",
       "      <th>4</th>\n",
       "      <td>2020-06-15</td>\n",
       "      <td>Firefox</td>\n",
       "      <td>Robots</td>\n",
       "      <td>29.0</td>\n",
       "    </tr>\n",
       "  </tbody>\n",
       "</table>\n",
       "</div>"
      ],
      "text/plain": [
       "         date         browser user_type  users\n",
       "0  2020-06-15   Google Chrome    People  240.0\n",
       "1  2020-06-15   Google Chrome    Robots  104.0\n",
       "2  2020-06-15  Yandex Browser    People   44.0\n",
       "3  2020-06-15   Chrome Mobile    People   30.0\n",
       "4  2020-06-15         Firefox    Robots   29.0"
      ]
     },
     "execution_count": 135,
     "metadata": {},
     "output_type": "execute_result"
    }
   ],
   "source": [
    "df.head()"
   ]
  },
  {
   "cell_type": "code",
   "execution_count": 139,
   "metadata": {},
   "outputs": [],
   "source": [
    "merged_df = df.merge(my_df, on=['browser','date', 'user_type'])"
   ]
  },
  {
   "cell_type": "code",
   "execution_count": 150,
   "metadata": {},
   "outputs": [
    {
     "data": {
      "text/plain": [
       "array([1.])"
      ]
     },
     "execution_count": 150,
     "metadata": {},
     "output_type": "execute_result"
    }
   ],
   "source": [
    "merged_df['part'] = merged_df['visits'] / merged_df['users']\n",
    "np.round(merged_df.query('browser == \"Google Chrome\" & user_type == \"Robots\"')['part'].values, 0)"
   ]
  },
  {
   "cell_type": "code",
   "execution_count": null,
   "metadata": {},
   "outputs": [],
   "source": []
  }
 ],
 "metadata": {
  "kernelspec": {
   "display_name": "Python 3",
   "language": "python",
   "name": "python3"
  },
  "language_info": {
   "codemirror_mode": {
    "name": "ipython",
    "version": 3
   },
   "file_extension": ".py",
   "mimetype": "text/x-python",
   "name": "python",
   "nbconvert_exporter": "python",
   "pygments_lexer": "ipython3",
   "version": "3.7.3"
  }
 },
 "nbformat": 4,
 "nbformat_minor": 2
}
