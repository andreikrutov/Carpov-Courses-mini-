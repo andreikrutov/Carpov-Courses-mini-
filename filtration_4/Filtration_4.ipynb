{
  "nbformat": 4,
  "nbformat_minor": 0,
  "metadata": {
    "colab": {
      "name": "Filtration_4.ipynb",
      "provenance": []
    },
    "kernelspec": {
      "name": "python3",
      "display_name": "Python 3"
    },
    "language_info": {
      "name": "python"
    }
  },
  "cells": [
    {
      "cell_type": "code",
      "metadata": {
        "id": "o04EDmk0YAvh"
      },
      "source": [
        ""
      ],
      "execution_count": null,
      "outputs": []
    },
    {
      "cell_type": "markdown",
      "metadata": {
        "id": "roCa7EcMYVwf"
      },
      "source": [
        "# Проект по фильтрации"
      ]
    },
    {
      "cell_type": "markdown",
      "metadata": {
        "id": "-rr61PyCYUEX"
      },
      "source": [
        "Имеется таблица с записями о компаниях, включая их ИНН, и отдельный текстовый файл с набором ИНН (колонка head_inn), которые хранятся в папке 4_inn.\n",
        "\n",
        "inn.xls — таблица в экселевском формате  \n",
        "necessary_inn.txt — перечень необходимых ИНН в текстовом формате\n",
        "\n",
        "Задачи:  \n",
        "- извлечь из таблицы записи с ИНН, указанными в текстовом файле  \n",
        "- записать результат в файл selected_inn.csv"
      ]
    },
    {
      "cell_type": "code",
      "metadata": {
        "colab": {
          "base_uri": "https://localhost:8080/"
        },
        "id": "7hWzw_erYenb",
        "outputId": "cfdaeea5-db83-4414-fcc8-0eb31c8a1bf5"
      },
      "source": [
        "from google.colab import drive\n",
        "drive.mount('/content/drive')"
      ],
      "execution_count": null,
      "outputs": [
        {
          "output_type": "stream",
          "text": [
            "Mounted at /content/drive\n"
          ],
          "name": "stdout"
        }
      ]
    },
    {
      "cell_type": "code",
      "metadata": {
        "id": "UojFCnZLYqJK"
      },
      "source": [
        "import pandas as pd"
      ],
      "execution_count": null,
      "outputs": []
    },
    {
      "cell_type": "code",
      "metadata": {
        "id": "DYsdSgCjZa8A"
      },
      "source": [
        "inn_txt = pd.read_csv('/content/drive/My Drive/Data for Collab/Carpov_Courses/filtration_4/4_necessary_inn.txt',header=None)\n",
        "#header = None, чтобы первое значение в файле не выбиралось в качестве названия колонки"
      ],
      "execution_count": null,
      "outputs": []
    },
    {
      "cell_type": "code",
      "metadata": {
        "colab": {
          "base_uri": "https://localhost:8080/"
        },
        "id": "8YQn1bUKaynO",
        "outputId": "387a784e-63e8-4546-ac4c-e9885d1889cb"
      },
      "source": [
        "inn_txt.shape"
      ],
      "execution_count": null,
      "outputs": [
        {
          "output_type": "execute_result",
          "data": {
            "text/plain": [
              "(115, 1)"
            ]
          },
          "metadata": {
            "tags": []
          },
          "execution_count": 80
        }
      ]
    },
    {
      "cell_type": "code",
      "metadata": {
        "colab": {
          "base_uri": "https://localhost:8080/",
          "height": 203
        },
        "id": "ziqsyQZVaDL1",
        "outputId": "6a2b97f1-bf2a-49bb-86b0-abe4badd0e01"
      },
      "source": [
        "inn_txt.head()"
      ],
      "execution_count": null,
      "outputs": [
        {
          "output_type": "execute_result",
          "data": {
            "text/html": [
              "<div>\n",
              "<style scoped>\n",
              "    .dataframe tbody tr th:only-of-type {\n",
              "        vertical-align: middle;\n",
              "    }\n",
              "\n",
              "    .dataframe tbody tr th {\n",
              "        vertical-align: top;\n",
              "    }\n",
              "\n",
              "    .dataframe thead th {\n",
              "        text-align: right;\n",
              "    }\n",
              "</style>\n",
              "<table border=\"1\" class=\"dataframe\">\n",
              "  <thead>\n",
              "    <tr style=\"text-align: right;\">\n",
              "      <th></th>\n",
              "      <th>0</th>\n",
              "    </tr>\n",
              "  </thead>\n",
              "  <tbody>\n",
              "    <tr>\n",
              "      <th>0</th>\n",
              "      <td>394609645484</td>\n",
              "    </tr>\n",
              "    <tr>\n",
              "      <th>1</th>\n",
              "      <td>281578625230</td>\n",
              "    </tr>\n",
              "    <tr>\n",
              "      <th>2</th>\n",
              "      <td>923769811917</td>\n",
              "    </tr>\n",
              "    <tr>\n",
              "      <th>3</th>\n",
              "      <td>998694734508</td>\n",
              "    </tr>\n",
              "    <tr>\n",
              "      <th>4</th>\n",
              "      <td>271011690615</td>\n",
              "    </tr>\n",
              "  </tbody>\n",
              "</table>\n",
              "</div>"
            ],
            "text/plain": [
              "              0\n",
              "0  394609645484\n",
              "1  281578625230\n",
              "2  923769811917\n",
              "3  998694734508\n",
              "4  271011690615"
            ]
          },
          "metadata": {
            "tags": []
          },
          "execution_count": 81
        }
      ]
    },
    {
      "cell_type": "code",
      "metadata": {
        "id": "0kcMWDbzbTq-"
      },
      "source": [
        "inn_txt.columns = ['inn']#дали название колонке"
      ],
      "execution_count": null,
      "outputs": []
    },
    {
      "cell_type": "code",
      "metadata": {
        "id": "yzE6KL95aFGR"
      },
      "source": [
        "orgs_xlsx = pd.read_excel('/content/drive/My Drive/Data for Collab/Carpov_Courses/filtration_4/4_inn.xls', index_col=0)"
      ],
      "execution_count": null,
      "outputs": []
    },
    {
      "cell_type": "code",
      "metadata": {
        "colab": {
          "base_uri": "https://localhost:8080/",
          "height": 248
        },
        "id": "yvpYpTmTbw5b",
        "outputId": "07bc92e7-2b6a-42d6-9849-df63746018bd"
      },
      "source": [
        "orgs_xlsx.head(2)"
      ],
      "execution_count": null,
      "outputs": [
        {
          "output_type": "execute_result",
          "data": {
            "text/html": [
              "<div>\n",
              "<style scoped>\n",
              "    .dataframe tbody tr th:only-of-type {\n",
              "        vertical-align: middle;\n",
              "    }\n",
              "\n",
              "    .dataframe tbody tr th {\n",
              "        vertical-align: top;\n",
              "    }\n",
              "\n",
              "    .dataframe thead th {\n",
              "        text-align: right;\n",
              "    }\n",
              "</style>\n",
              "<table border=\"1\" class=\"dataframe\">\n",
              "  <thead>\n",
              "    <tr style=\"text-align: right;\">\n",
              "      <th></th>\n",
              "      <th>#</th>\n",
              "      <th>name</th>\n",
              "      <th>reg_number</th>\n",
              "      <th>address</th>\n",
              "      <th>head</th>\n",
              "      <th>head_job</th>\n",
              "      <th>head_inn</th>\n",
              "      <th>phone</th>\n",
              "      <th>email</th>\n",
              "      <th>site</th>\n",
              "      <th>registration_date</th>\n",
              "      <th>nalogoplatelschik_code</th>\n",
              "      <th>oktmo_code</th>\n",
              "      <th>okato_code</th>\n",
              "      <th>registration_region</th>\n",
              "      <th>okato_name</th>\n",
              "      <th>field</th>\n",
              "      <th>capital,RUB</th>\n",
              "      <th>income,RUB</th>\n",
              "    </tr>\n",
              "  </thead>\n",
              "  <tbody>\n",
              "    <tr>\n",
              "      <th>0</th>\n",
              "      <td>0</td>\n",
              "      <td>ЗАО «Власова, Макаров и Шашков»</td>\n",
              "      <td>1143692580560</td>\n",
              "      <td>д. Кирово-Чепецк, пр. Металлургов, д. 537 к. 3...</td>\n",
              "      <td>Жданов Карл Виленович</td>\n",
              "      <td>Маммолог</td>\n",
              "      <td>109092209811</td>\n",
              "      <td>+7 (559) 338-87-76</td>\n",
              "      <td>bogdanovavtonom@yahoo.com</td>\n",
              "      <td>ooo.info</td>\n",
              "      <td>2015-01-07</td>\n",
              "      <td>2006-10-04</td>\n",
              "      <td>21112877268</td>\n",
              "      <td>73423615032</td>\n",
              "      <td>Ulan-Ude</td>\n",
              "      <td>к. Тосно, ул. Пушкинская, д. 896, 617222</td>\n",
              "      <td>Синхронизация критически важных отношений</td>\n",
              "      <td>54875526078</td>\n",
              "      <td>32205872896</td>\n",
              "    </tr>\n",
              "    <tr>\n",
              "      <th>1</th>\n",
              "      <td>1</td>\n",
              "      <td>РАО «Тимофеева, Алексеева и Кузнецова»</td>\n",
              "      <td>9342309660697</td>\n",
              "      <td>г. Арзамас, наб. Фестивальная, д. 7 стр. 8/2, ...</td>\n",
              "      <td>Рожков Харлампий Алексеевич</td>\n",
              "      <td>Воспитатель</td>\n",
              "      <td>704229465069</td>\n",
              "      <td>8 (632) 620-8879</td>\n",
              "      <td>safonovantonin@rao.org</td>\n",
              "      <td>ooo.net</td>\n",
              "      <td>1990-05-16</td>\n",
              "      <td>2019-01-18</td>\n",
              "      <td>18393547520</td>\n",
              "      <td>19072454279</td>\n",
              "      <td>Tyoply Stan</td>\n",
              "      <td>ст. Кяхта, бул. Нефтяников, д. 24, 768742</td>\n",
              "      <td>Формирование заказных методик</td>\n",
              "      <td>33876448811</td>\n",
              "      <td>47437574301</td>\n",
              "    </tr>\n",
              "  </tbody>\n",
              "</table>\n",
              "</div>"
            ],
            "text/plain": [
              "   #                                    name  ...  capital,RUB   income,RUB\n",
              "0  0         ЗАО «Власова, Макаров и Шашков»  ...  54875526078  32205872896\n",
              "1  1  РАО «Тимофеева, Алексеева и Кузнецова»  ...  33876448811  47437574301\n",
              "\n",
              "[2 rows x 19 columns]"
            ]
          },
          "metadata": {
            "tags": []
          },
          "execution_count": 84
        }
      ]
    },
    {
      "cell_type": "code",
      "metadata": {
        "id": "VeId7aZ7bzEE"
      },
      "source": [
        "txt_inns = inn_txt.inn.to_list()#перевели ИНН в список\n",
        "xlsx_inns = orgs_xlsx.head_inn.to_list()#перевели ИНН в список"
      ],
      "execution_count": null,
      "outputs": []
    },
    {
      "cell_type": "code",
      "metadata": {
        "id": "eiK-ivJWcUwe"
      },
      "source": [
        "indicies = []\n",
        "for inn in txt_inns:\n",
        "  if inn in xlsx_inns:\n",
        "    indicies.append(orgs_xlsx[orgs_xlsx['head_inn'] == inn].index.item())#получаем индексы всех записей с совпадающими ИНН"
      ],
      "execution_count": null,
      "outputs": []
    },
    {
      "cell_type": "code",
      "metadata": {
        "id": "xy6pQ2p_izwD"
      },
      "source": [
        " final_df = orgs_xlsx.iloc[indicies,:]#фильтруем исходный датафрейм по отобранным индексам\n",
        " final_df = final_df.rename(columns={'income,RUB':'income_rub','capital,RUB':'capital_rub'})"
      ],
      "execution_count": null,
      "outputs": []
    },
    {
      "cell_type": "code",
      "metadata": {
        "colab": {
          "base_uri": "https://localhost:8080/"
        },
        "id": "6kFuhck4ctG1",
        "outputId": "7dd6034b-3cec-472c-d83c-8a7ac9208b43"
      },
      "source": [
        "final_df.income_rub.sum()"
      ],
      "execution_count": null,
      "outputs": [
        {
          "output_type": "execute_result",
          "data": {
            "text/plain": [
              "6104522627393"
            ]
          },
          "metadata": {
            "tags": []
          },
          "execution_count": 88
        }
      ]
    },
    {
      "cell_type": "code",
      "metadata": {
        "id": "ByiX2ZmCurX3"
      },
      "source": [
        "final_df.to_csv('selected.csv')"
      ],
      "execution_count": null,
      "outputs": []
    },
    {
      "cell_type": "code",
      "metadata": {
        "id": "d_k5a_Krtqpa"
      },
      "source": [
        ""
      ],
      "execution_count": null,
      "outputs": []
    }
  ]
}